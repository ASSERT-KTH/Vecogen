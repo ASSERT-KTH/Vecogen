{
 "cells": [
  {
   "cell_type": "markdown",
   "metadata": {},
   "source": [
    "## Handling of results from a single run of the simulation"
   ]
  },
  {
   "cell_type": "code",
   "execution_count": 43,
   "metadata": {},
   "outputs": [],
   "source": [
    "# Import libraries\n",
    "import pandas as pd\n",
    "import json\n",
    "import os \n",
    "import gspread\n",
    "from oauth2client.service_account import ServiceAccountCredentials\n",
    "from google.oauth2.service_account import Credentials\n",
    "from googleapiclient.discovery import build\n",
    "from googleapiclient.http import MediaFileUpload"
   ]
  },
  {
   "cell_type": "code",
   "execution_count": 1,
   "metadata": {},
   "outputs": [
    {
     "ename": "SyntaxError",
     "evalue": "invalid syntax (267147248.py, line 6)",
     "output_type": "error",
     "traceback": [
      "\u001b[1;36m  Cell \u001b[1;32mIn[1], line 6\u001b[1;36m\u001b[0m\n\u001b[1;33m    reboot = 1000-\u001b[0m\n\u001b[1;37m                  ^\u001b[0m\n\u001b[1;31mSyntaxError\u001b[0m\u001b[1;31m:\u001b[0m invalid syntax\n"
     ]
    }
   ],
   "source": [
    "# The settings of the current experiment\n",
    "model = \"3.5\"\n",
    "temperature = 1\n",
    "initial_examples_generated = 10\n",
    "feedback_iterations = 10\n",
    "reboot = 100000\n",
    "specifications = \"all\"\n",
    "output_folder = f\"{model}-{initial_examples_generated}-{feedback_iterations}-{temperature}-{specifications}\"\n",
    "\n",
    "# Print the command to generate the code\n",
    "command = f\"python3 main.py generate_code_folder -d ../no_loop_problems/ -ieg {initial_examples_generated} -iter {feedback_iterations} -temp {temperature}  -reboot {reboot} -wpt 5 -o ../output/{output_folder} -output-file generated_code.c\"\n",
    "\n",
    "print(command)\n"
   ]
  },
  {
   "cell_type": "code",
   "execution_count": 67,
   "metadata": {},
   "outputs": [],
   "source": [
    "# print all folders in the directory sorted by name\n",
    "folders = os.listdir('../no_loop_problems/')\n",
    "\n",
    "# Sort on number\n",
    "folders.sort(key=lambda x: int(x.split('-')[0]))\n",
    "\n",
    "# Create an empty dataframe that will be filled with info of the iterations\n",
    "iteration_array = []\n",
    "\n",
    "for folder_name in folders:\n",
    "    # Read the output given in the file \n",
    "    with open(f\"../output/{output_folder}/{folder_name}/results.txt\", 'r') as file:\n",
    "        # Read the file which contains an array\n",
    "        data = json.load(file)\n",
    "        \n",
    "    verified_goals = []\n",
    "    passed_tests = []\n",
    "\n",
    "    # for each iteration in the array add it to the dataframe\n",
    "    for i in data:\n",
    "        # print the amount of passed tests\n",
    "        verified_goals.append(i['verified_goals'])\n",
    "        passed_tests.append(f\"{i['test_information'][-1]['summary']['passed']} / {i['test_information'][-1]['summary']['total']}\")\n",
    "\n",
    "    # Add it as a column to the dataframe\n",
    "    iteration_array.append(verified_goals)\n",
    "    iteration_array.append(passed_tests)\n",
    "\n",
    "# Create a dataframe with the information of the iterations\n",
    "df = pd.DataFrame(iteration_array)"
   ]
  },
  {
   "cell_type": "markdown",
   "metadata": {},
   "source": [
    "## Work together with google sheets and google drive to store the information and results\n"
   ]
  },
  {
   "cell_type": "code",
   "execution_count": 68,
   "metadata": {},
   "outputs": [
    {
     "name": "stderr",
     "output_type": "stream",
     "text": [
      "C:\\Users\\MAL Sevenhuijsen\\AppData\\Local\\Temp\\ipykernel_5576\\3705707450.py:49: DeprecationWarning: The order of arguments in worksheet.update() has changed. Please pass values first and range_name secondor used named arguments (range_name=, values=)\n",
      "  worksheet.update(start_cell + ':' + end_cell, data_to_update)\n"
     ]
    },
    {
     "data": {
      "text/plain": [
       "{'spreadsheetId': '1QgsGGnlo6DWp0rS5wwbnouUjDsMZSUqd3fofFc2aKAQ',\n",
       " 'updatedRange': \"'3.5-10-10-1-all'!D6\",\n",
       " 'updatedRows': 1,\n",
       " 'updatedColumns': 1,\n",
       " 'updatedCells': 1}"
      ]
     },
     "execution_count": 68,
     "metadata": {},
     "output_type": "execute_result"
    }
   ],
   "source": [
    "# define the scope\n",
    "scope = ['https://spreadsheets.google.com/feeds','https://www.googleapis.com/auth/drive']\n",
    "\n",
    "# add credentials to the account\n",
    "creds = ServiceAccountCredentials.from_json_keyfile_name('../tmp/vecogen-1ec545f23e03.json', scope)\n",
    "\n",
    "# authorize the clientsheet \n",
    "client = gspread.authorize(creds)\n",
    "\n",
    "# get the instance of the Spreadsheet\n",
    "sheet = client.open('Master Thesis Merlijn Results')\n",
    "\n",
    "# get the first sheet of the Spreadsheet\n",
    "template_sheet_name = \"template-model-initial_examples_generated-feedback_iterations-temperature-dataset\"\n",
    "template_sheet = sheet.worksheet(template_sheet_name)\n",
    "\n",
    "# Copy the sheet called \"template\" to a new sheet\n",
    "template_sheet_name = \"template-model-initial_examples_generated-feedback_iterations-temperature-dataset\"\n",
    "new_sheet_name = f\"{model}-{initial_examples_generated}-{feedback_iterations}-{temperature}-{specifications}\"\n",
    "\n",
    "# Copy the template sheet to a new sheet\n",
    "result_sheet = sheet.duplicate_sheet(template_sheet.id)\n",
    "result_sheet.update_title(new_sheet_name)\n",
    "\n",
    "# Change the order to the last sheet\n",
    "sheet.batch_update({\n",
    "    \"requests\": {\n",
    "        \"updateSheetProperties\": {\n",
    "            \"properties\": {\n",
    "                \"sheetId\": result_sheet.id,\n",
    "                \"index\": len(sheet.worksheets()) - 1  # Move to the last position\n",
    "            },\n",
    "            \"fields\": \"index\"\n",
    "        }\n",
    "    }\n",
    "})\n",
    "\n",
    "# Add the data to the sheet\n",
    "worksheet = sheet.worksheet(new_sheet_name)\n",
    "\n",
    "# Add the data to the sheet\n",
    "start_cell = 'E10'\n",
    "end_cell =  'ZZZ69'\n",
    "\n",
    "# Convert DataFrame to list of lists\n",
    "data_to_update = df.values.tolist()\n",
    "\n",
    "# Update the range with the DataFrame values\n",
    "worksheet.update(start_cell + ':' + end_cell, data_to_update)\n",
    "\n",
    "# Put in cell D1 the model used\n",
    "worksheet.update_acell('D1', model)\n",
    "worksheet.update_acell('D2', temperature)\n",
    "worksheet.update_acell('D3', initial_examples_generated)\n",
    "worksheet.update_acell('D4', feedback_iterations)\n",
    "worksheet.update_acell('D5', specifications)\n",
    "worksheet.update_acell('D6', command)"
   ]
  },
  {
   "cell_type": "markdown",
   "metadata": {},
   "source": [
    "## Store the data in the google drive folder    "
   ]
  },
  {
   "cell_type": "code",
   "execution_count": null,
   "metadata": {},
   "outputs": [
    {
     "name": "stdout",
     "output_type": "stream",
     "text": [
      "Folder ../output/3.5-100-0-1-all-all uploaded to Google Drive folder with ID 1ZvsBlLV94f1TTG-2aIfeX_v86I4bOxq8\n"
     ]
    }
   ],
   "source": [
    "# Define the scope and authenticate using service account credentials\n",
    "SCOPES = ['https://www.googleapis.com/auth/drive']\n",
    "creds = Credentials.from_service_account_file('../tmp/vecogen-1ec545f23e03.json', scopes=SCOPES)\n",
    "\n",
    "# Authenticate Google Drive API client\n",
    "drive_service = build('drive', 'v3', credentials=creds)\n",
    "\n",
    "def create_folder(name, parent_id=None):\n",
    "    \"\"\"Create a folder in Google Drive.\"\"\"\n",
    "    folder_metadata = {\n",
    "        'name': name,\n",
    "        'mimeType': 'application/vnd.google-apps.folder'\n",
    "    }\n",
    "    if parent_id:\n",
    "        folder_metadata['parents'] = [parent_id]\n",
    "    folder = drive_service.files().create(body=folder_metadata, fields='id').execute()\n",
    "    return folder.get('id')\n",
    "\n",
    "def upload_file(file_path, parent_id):\n",
    "    \"\"\"Upload a file to Google Drive.\"\"\"\n",
    "    file_name = os.path.basename(file_path)\n",
    "    media = MediaFileUpload(file_path, resumable=True)\n",
    "    file_metadata = {\n",
    "        'name': file_name,\n",
    "        'parents': [parent_id]\n",
    "    }\n",
    "    file = drive_service.files().create(body=file_metadata, media_body=media, fields='id').execute()\n",
    "    return file.get('id')\n",
    "\n",
    "def upload_folder(local_folder_path, parent_id=None):\n",
    "    \"\"\"Upload a folder to Google Drive, recursively including all files and subfolders.\"\"\"\n",
    "    folder_name = os.path.basename(local_folder_path)\n",
    "    folder_id = create_folder(folder_name, parent_id)\n",
    "    for item in os.listdir(local_folder_path):\n",
    "        item_path = os.path.join(local_folder_path, item)\n",
    "        if os.path.isdir(item_path):\n",
    "            upload_folder(item_path, folder_id)\n",
    "        else:\n",
    "            upload_file(item_path, folder_id)\n",
    "\n",
    "def list_folders():\n",
    "    \"\"\"List all folders in Google Drive.\"\"\"\n",
    "    query = \"mimeType='application/vnd.google-apps.folder' and trashed=false\"\n",
    "    results = drive_service.files().list(q=query, spaces='drive', fields='nextPageToken, files(id, name)').execute()\n",
    "    folders = results.get('files', [])\n",
    "\n",
    "    if not folders:\n",
    "        print('No folders found.')\n",
    "    else:\n",
    "        print('Folders:')\n",
    "        for folder in folders:\n",
    "            print(f\"Name: {folder['name']}, ID: {folder['id']}\")\n",
    "\n",
    "# Define the local folder you want to upload and the Google Drive parent folder ID\n",
    "local_folder_path = f'../output/{output_folder}'\n",
    "drive_parent_folder_id = '1ZvsBlLV94f1TTG-2aIfeX_v86I4bOxq8'\n",
    "\n",
    "# Start the folder upload process\n",
    "upload_folder(local_folder_path, drive_parent_folder_id)\n",
    "\n",
    "print(f'Folder {local_folder_path} uploaded to Google Drive folder with ID {drive_parent_folder_id}')\n"
   ]
  }
 ],
 "metadata": {
  "kernelspec": {
   "display_name": "Python 3",
   "language": "python",
   "name": "python3"
  },
  "language_info": {
   "codemirror_mode": {
    "name": "ipython",
    "version": 3
   },
   "file_extension": ".py",
   "mimetype": "text/x-python",
   "name": "python",
   "nbconvert_exporter": "python",
   "pygments_lexer": "ipython3",
   "version": "3.11.9"
  }
 },
 "nbformat": 4,
 "nbformat_minor": 2
}
