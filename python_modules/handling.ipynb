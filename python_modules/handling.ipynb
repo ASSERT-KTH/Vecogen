{
 "cells": [
  {
   "cell_type": "markdown",
   "metadata": {},
   "source": [
    "## Handling of results from a single run of the simulation"
   ]
  },
  {
   "cell_type": "code",
   "execution_count": 1,
   "metadata": {},
   "outputs": [],
   "source": [
    "# Import libraries\n",
    "import pandas as pd\n",
    "import json\n",
    "import os \n",
    "import subprocess\n",
    "import sys\n"
   ]
  },
  {
   "cell_type": "code",
   "execution_count": 18,
   "metadata": {},
   "outputs": [
    {
     "name": "stdout",
     "output_type": "stream",
     "text": [
      "python3 main.py generate_code_folder -d ../no_loop_problems/ -ieg 100 -iter 0 -temp 1  -reboot 5 -wpt 5 -o ../output/3.5-100-0-1-all-all -output-file generated_code.c\n"
     ]
    }
   ],
   "source": [
    "# The settings\n",
    "model = \"3.5\"\n",
    "temperature = 1\n",
    "initial_examples_generated = 100\n",
    "feedback_iterations = 0\n",
    "reboot = 5\n",
    "specifications = \"all\"\n",
    "output_folder = f\"{model}-{initial_examples_generated}-{feedback_iterations}-{temperature}-{specifications}-{specifications}\"\n",
    "\n",
    "# Print the command to generate the code\n",
    "print(f\"python3 main.py generate_code_folder -d ../no_loop_problems/ -ieg {initial_examples_generated} -iter {feedback_iterations} -temp {temperature}  -reboot {reboot} -wpt 5 -o ../output/{output_folder} -output-file generated_code.c\")\n"
   ]
  },
  {
   "cell_type": "code",
   "execution_count": 28,
   "metadata": {},
   "outputs": [],
   "source": [
    "# print all folders in the directory sorted by name\n",
    "folders = os.listdir('../no_loop_problems/')\n",
    "\n",
    "# Sort on number\n",
    "folders.sort(key=lambda x: int(x.split('-')[0]))\n",
    "\n",
    "# Create an empty dataframe that will be filled with info of the iterations\n",
    "iteration_array = []\n",
    "\n",
    "for folder_name in folders:\n",
    "    # Read the output given in the file \n",
    "    with open(f\"../output/{output_folder}/{folder_name}/results.txt\", 'r') as file:\n",
    "        # Read the file which contains an array\n",
    "        data = json.load(file)\n",
    "        \n",
    "    verified_goals = []\n",
    "    passed_tests = []\n",
    "\n",
    "    # for each iteration in the array add it to the dataframe\n",
    "    for i in data:\n",
    "        # print the amount of passed tests\n",
    "        verified_goals.append(i['verified_goals'])\n",
    "        passed_tests.append(f\"{i['test_information'][-1]['summary']['passed']} / {i['test_information'][-1]['summary']['total']}\")\n",
    "\n",
    "    # Add it as a column to the dataframe\n",
    "    iteration_array.append(verified_goals)\n",
    "    iteration_array.append(passed_tests)\n",
    "\n",
    "# Create a dataframe with the information of the iterations\n",
    "df = pd.DataFrame(iteration_array)\n",
    "\n",
    "# export it to an excel file\n",
    "df.to_clipboard(index=False, header=False)\n",
    "    "
   ]
  },
  {
   "cell_type": "markdown",
   "metadata": {},
   "source": [
    "## Work together with google sheets and google drive to store the information and results\n"
   ]
  },
  {
   "cell_type": "code",
   "execution_count": 10,
   "metadata": {},
   "outputs": [],
   "source": [
    "# Import libraries\n",
    "import gspread\n",
    "import pandas as pd\n",
    "from oauth2client.service_account import ServiceAccountCredentials"
   ]
  },
  {
   "cell_type": "code",
   "execution_count": 23,
   "metadata": {},
   "outputs": [],
   "source": [
    "# get the instance of the Spreadsheet\n",
    "\n",
    "# define the scope\n",
    "scope = ['https://spreadsheets.google.com/feeds','https://www.googleapis.com/auth/drive']\n",
    "\n",
    "# add credentials to the account\n",
    "creds = ServiceAccountCredentials.from_json_keyfile_name('../tmp/vecogen-1ec545f23e03.json', scope)\n",
    "\n",
    "# authorize the clientsheet \n",
    "client = gspread.authorize(creds)\n",
    "\n",
    "\n",
    "# get the instance of the Spreadsheet\n",
    "sheet = client.open('Master Thesis Merlijn Results')\n",
    "\n",
    "# get the first sheet of the Spreadsheet\n",
    "template_sheet_name = \"template-model-initial_examples_generated-feedback_iterations-temperature-dataset\"\n",
    "template_sheet = sheet.worksheet(template_sheet_name)"
   ]
  },
  {
   "cell_type": "code",
   "execution_count": 37,
   "metadata": {},
   "outputs": [
    {
     "name": "stdout",
     "output_type": "stream",
     "text": [
      "E10 E110\n"
     ]
    },
    {
     "name": "stderr",
     "output_type": "stream",
     "text": [
      "C:\\Users\\MAL Sevenhuijsen\\AppData\\Local\\Temp\\ipykernel_5576\\2774811292.py:34: DeprecationWarning: The order of arguments in worksheet.update() has changed. Please pass values first and range_name secondor used named arguments (range_name=, values=)\n",
      "  worksheet.update(start_cell + ':' + end_cell, data_to_update)\n"
     ]
    },
    {
     "ename": "APIError",
     "evalue": "APIError: [400]: Requested writing within range ['3.5-100-0-1-all-all'!E10:E110], but tried writing to column [F]",
     "output_type": "error",
     "traceback": [
      "\u001b[1;31m---------------------------------------------------------------------------\u001b[0m",
      "\u001b[1;31mAPIError\u001b[0m                                  Traceback (most recent call last)",
      "Cell \u001b[1;32mIn[37], line 34\u001b[0m\n\u001b[0;32m     31\u001b[0m data_to_update \u001b[38;5;241m=\u001b[39m df\u001b[38;5;241m.\u001b[39mvalues\u001b[38;5;241m.\u001b[39mtolist()\n\u001b[0;32m     33\u001b[0m \u001b[38;5;66;03m# Update the range with the DataFrame values\u001b[39;00m\n\u001b[1;32m---> 34\u001b[0m \u001b[43mworksheet\u001b[49m\u001b[38;5;241;43m.\u001b[39;49m\u001b[43mupdate\u001b[49m\u001b[43m(\u001b[49m\u001b[43mstart_cell\u001b[49m\u001b[43m \u001b[49m\u001b[38;5;241;43m+\u001b[39;49m\u001b[43m \u001b[49m\u001b[38;5;124;43m'\u001b[39;49m\u001b[38;5;124;43m:\u001b[39;49m\u001b[38;5;124;43m'\u001b[39;49m\u001b[43m \u001b[49m\u001b[38;5;241;43m+\u001b[39;49m\u001b[43m \u001b[49m\u001b[43mend_cell\u001b[49m\u001b[43m,\u001b[49m\u001b[43m \u001b[49m\u001b[43mdata_to_update\u001b[49m\u001b[43m)\u001b[49m\n",
      "File \u001b[1;32m~\\AppData\\Local\\Packages\\PythonSoftwareFoundation.Python.3.10_qbz5n2kfra8p0\\LocalCache\\local-packages\\Python310\\site-packages\\gspread\\worksheet.py:1240\u001b[0m, in \u001b[0;36mWorksheet.update\u001b[1;34m(self, values, range_name, raw, major_dimension, value_input_option, include_values_in_response, response_value_render_option, response_date_time_render_option)\u001b[0m\n\u001b[0;32m   1229\u001b[0m     value_input_option \u001b[38;5;241m=\u001b[39m (\n\u001b[0;32m   1230\u001b[0m         ValueInputOption\u001b[38;5;241m.\u001b[39mraw \u001b[38;5;28;01mif\u001b[39;00m raw \u001b[38;5;129;01mis\u001b[39;00m \u001b[38;5;28;01mTrue\u001b[39;00m \u001b[38;5;28;01melse\u001b[39;00m ValueInputOption\u001b[38;5;241m.\u001b[39muser_entered\n\u001b[0;32m   1231\u001b[0m     )\n\u001b[0;32m   1233\u001b[0m params: ParamsType \u001b[38;5;241m=\u001b[39m {\n\u001b[0;32m   1234\u001b[0m     \u001b[38;5;124m\"\u001b[39m\u001b[38;5;124mvalueInputOption\u001b[39m\u001b[38;5;124m\"\u001b[39m: value_input_option,\n\u001b[0;32m   1235\u001b[0m     \u001b[38;5;124m\"\u001b[39m\u001b[38;5;124mincludeValuesInResponse\u001b[39m\u001b[38;5;124m\"\u001b[39m: include_values_in_response,\n\u001b[0;32m   1236\u001b[0m     \u001b[38;5;124m\"\u001b[39m\u001b[38;5;124mresponseValueRenderOption\u001b[39m\u001b[38;5;124m\"\u001b[39m: response_value_render_option,\n\u001b[0;32m   1237\u001b[0m     \u001b[38;5;124m\"\u001b[39m\u001b[38;5;124mresponseDateTimeRenderOption\u001b[39m\u001b[38;5;124m\"\u001b[39m: response_date_time_render_option,\n\u001b[0;32m   1238\u001b[0m }\n\u001b[1;32m-> 1240\u001b[0m response \u001b[38;5;241m=\u001b[39m \u001b[38;5;28;43mself\u001b[39;49m\u001b[38;5;241;43m.\u001b[39;49m\u001b[43mclient\u001b[49m\u001b[38;5;241;43m.\u001b[39;49m\u001b[43mvalues_update\u001b[49m\u001b[43m(\u001b[49m\n\u001b[0;32m   1241\u001b[0m \u001b[43m    \u001b[49m\u001b[38;5;28;43mself\u001b[39;49m\u001b[38;5;241;43m.\u001b[39;49m\u001b[43mspreadsheet_id\u001b[49m\u001b[43m,\u001b[49m\n\u001b[0;32m   1242\u001b[0m \u001b[43m    \u001b[49m\u001b[43mfull_range_name\u001b[49m\u001b[43m,\u001b[49m\n\u001b[0;32m   1243\u001b[0m \u001b[43m    \u001b[49m\u001b[43mparams\u001b[49m\u001b[38;5;241;43m=\u001b[39;49m\u001b[43mparams\u001b[49m\u001b[43m,\u001b[49m\n\u001b[0;32m   1244\u001b[0m \u001b[43m    \u001b[49m\u001b[43mbody\u001b[49m\u001b[38;5;241;43m=\u001b[39;49m\u001b[43m{\u001b[49m\u001b[38;5;124;43m\"\u001b[39;49m\u001b[38;5;124;43mvalues\u001b[39;49m\u001b[38;5;124;43m\"\u001b[39;49m\u001b[43m:\u001b[49m\u001b[43m \u001b[49m\u001b[43mvalues\u001b[49m\u001b[43m,\u001b[49m\u001b[43m \u001b[49m\u001b[38;5;124;43m\"\u001b[39;49m\u001b[38;5;124;43mmajorDimension\u001b[39;49m\u001b[38;5;124;43m\"\u001b[39;49m\u001b[43m:\u001b[49m\u001b[43m \u001b[49m\u001b[43mmajor_dimension\u001b[49m\u001b[43m}\u001b[49m\u001b[43m,\u001b[49m\n\u001b[0;32m   1245\u001b[0m \u001b[43m\u001b[49m\u001b[43m)\u001b[49m\n\u001b[0;32m   1247\u001b[0m \u001b[38;5;28;01mreturn\u001b[39;00m response\n",
      "File \u001b[1;32m~\\AppData\\Local\\Packages\\PythonSoftwareFoundation.Python.3.10_qbz5n2kfra8p0\\LocalCache\\local-packages\\Python310\\site-packages\\gspread\\http_client.py:173\u001b[0m, in \u001b[0;36mHTTPClient.values_update\u001b[1;34m(self, id, range, params, body)\u001b[0m\n\u001b[0;32m    150\u001b[0m \u001b[38;5;250m\u001b[39m\u001b[38;5;124;03m\"\"\"Lower-level method that directly calls `PUT spreadsheets/<ID>/values/<range> <https://developers.google.com/sheets/api/reference/rest/v4/spreadsheets.values/update>`_.\u001b[39;00m\n\u001b[0;32m    151\u001b[0m \n\u001b[0;32m    152\u001b[0m \u001b[38;5;124;03m:param str range: The `A1 notation <https://developers.google.com/sheets/api/guides/concepts#a1_notation>`_ of the values to update.\u001b[39;00m\n\u001b[1;32m   (...)\u001b[0m\n\u001b[0;32m    170\u001b[0m \u001b[38;5;124;03m.. versionadded:: 3.0\u001b[39;00m\n\u001b[0;32m    171\u001b[0m \u001b[38;5;124;03m\"\"\"\u001b[39;00m\n\u001b[0;32m    172\u001b[0m url \u001b[38;5;241m=\u001b[39m SPREADSHEET_VALUES_URL \u001b[38;5;241m%\u001b[39m (\u001b[38;5;28mid\u001b[39m, quote(\u001b[38;5;28mrange\u001b[39m))\n\u001b[1;32m--> 173\u001b[0m r \u001b[38;5;241m=\u001b[39m \u001b[38;5;28;43mself\u001b[39;49m\u001b[38;5;241;43m.\u001b[39;49m\u001b[43mrequest\u001b[49m\u001b[43m(\u001b[49m\u001b[38;5;124;43m\"\u001b[39;49m\u001b[38;5;124;43mput\u001b[39;49m\u001b[38;5;124;43m\"\u001b[39;49m\u001b[43m,\u001b[49m\u001b[43m \u001b[49m\u001b[43murl\u001b[49m\u001b[43m,\u001b[49m\u001b[43m \u001b[49m\u001b[43mparams\u001b[49m\u001b[38;5;241;43m=\u001b[39;49m\u001b[43mparams\u001b[49m\u001b[43m,\u001b[49m\u001b[43m \u001b[49m\u001b[43mjson\u001b[49m\u001b[38;5;241;43m=\u001b[39;49m\u001b[43mbody\u001b[49m\u001b[43m)\u001b[49m\n\u001b[0;32m    174\u001b[0m \u001b[38;5;28;01mreturn\u001b[39;00m r\u001b[38;5;241m.\u001b[39mjson()\n",
      "File \u001b[1;32m~\\AppData\\Local\\Packages\\PythonSoftwareFoundation.Python.3.10_qbz5n2kfra8p0\\LocalCache\\local-packages\\Python310\\site-packages\\gspread\\http_client.py:128\u001b[0m, in \u001b[0;36mHTTPClient.request\u001b[1;34m(self, method, endpoint, params, data, json, files, headers)\u001b[0m\n\u001b[0;32m    126\u001b[0m     \u001b[38;5;28;01mreturn\u001b[39;00m response\n\u001b[0;32m    127\u001b[0m \u001b[38;5;28;01melse\u001b[39;00m:\n\u001b[1;32m--> 128\u001b[0m     \u001b[38;5;28;01mraise\u001b[39;00m APIError(response)\n",
      "\u001b[1;31mAPIError\u001b[0m: APIError: [400]: Requested writing within range ['3.5-100-0-1-all-all'!E10:E110], but tried writing to column [F]"
     ]
    }
   ],
   "source": [
    "# Copy the sheet called \"template\" to a new sheet\n",
    "template_sheet_name = \"template-model-initial_examples_generated-feedback_iterations-temperature-dataset\"\n",
    "new_sheet_name = f\"{model}-{initial_examples_generated}-{feedback_iterations}-{temperature}-{specifications}-{specifications}\"\n",
    "\n",
    "# Copy the template sheet to a new sheet\n",
    "result_sheet = sheet.duplicate_sheet(template_sheet.id)\n",
    "result_sheet.update_title(new_sheet_name)\n",
    "\n",
    "# Change the order to the last sheet\n",
    "sheet.batch_update({\n",
    "    \"requests\": {\n",
    "        \"updateSheetProperties\": {\n",
    "            \"properties\": {\n",
    "                \"sheetId\": result_sheet.id,\n",
    "                \"index\": len(sheet.worksheets()) - 1  # Move to the last position\n",
    "            },\n",
    "            \"fields\": \"index\"\n",
    "        }\n",
    "    }\n",
    "})\n",
    "\n",
    "# Add the data to the sheet\n",
    "worksheet = sheet.worksheet(new_sheet_name)\n",
    "\n",
    "# Add the data to the sheet\n",
    "start_cell = 'E10'\n",
    "end_cell =  'ZZZ69'\n",
    "\n",
    "print(start_cell, end_cell)\n",
    "# Convert DataFrame to list of lists\n",
    "data_to_update = df.values.tolist()\n",
    "\n",
    "# Update the range with the DataFrame values\n",
    "worksheet.update(start_cell + ':' + end_cell, data_to_update)"
   ]
  }
 ],
 "metadata": {
  "kernelspec": {
   "display_name": "Python 3",
   "language": "python",
   "name": "python3"
  },
  "language_info": {
   "codemirror_mode": {
    "name": "ipython",
    "version": 3
   },
   "file_extension": ".py",
   "mimetype": "text/x-python",
   "name": "python",
   "nbconvert_exporter": "python",
   "pygments_lexer": "ipython3",
   "version": "3.10.11"
  }
 },
 "nbformat": 4,
 "nbformat_minor": 2
}
