{
 "cells": [
  {
   "cell_type": "markdown",
   "metadata": {},
   "source": [
    "## Handling of results from a single run of the simulation"
   ]
  },
  {
   "cell_type": "code",
   "execution_count": 1,
   "metadata": {},
   "outputs": [],
   "source": [
    "# Import libraries\n",
    "import pandas as pd\n",
    "import json\n",
    "import os \n"
   ]
  },
  {
   "cell_type": "code",
   "execution_count": 51,
   "metadata": {},
   "outputs": [
    {
     "name": "stdout",
     "output_type": "stream",
     "text": [
      "{'summary': {'passed': 0, 'failed': 0, 'total': 0, 'information': 'Compilation failed'}}\n",
      "{'summary': {'total': 104, 'passed': 104, 'failed': 0, 'pass_rate': 1.0}}\n"
     ]
    }
   ],
   "source": [
    "# Read the output given in the file \n",
    "with open('../output/3.5-1-10-0-all/284/results.txt', 'r') as file:\n",
    "    # Read the file which contains an array\n",
    "    data = json.load(file)\n",
    "    \n",
    "# Create an empty dataframe that will be filled with info of the iterations\n",
    "iteration_array = []\n",
    "\n",
    "# for each iteration in the array print it\n",
    "for i in data:\n",
    "\n",
    "    # print the amount of passed tests\n",
    "    iteration_information = (f\"{i['verified_goals']}\", f\"{i['test_information'][-1]['summary']['passed']} / {i['test_information'][-1]['summary']['total']}\")\n",
    "\n",
    "    # Add it as a column to the dataframe\n",
    "    iteration_array.append(iteration_information)\n",
    "\n",
    "# Create a dataframe with the information of the iterations\n",
    "df = pd.DataFrame(iteration_array, columns=['Passed tests', 'Verified goals'])\n",
    "\n",
    "# export it to an excel file\n",
    "df.transpose().to_clipboard(index=False, header=False)  "
   ]
  },
  {
   "cell_type": "code",
   "execution_count": 45,
   "metadata": {},
   "outputs": [
    {
     "name": "stdout",
     "output_type": "stream",
     "text": [
      "python3 main.py generate_code -he ../no_loop_problems/0/specification-old.h -ieg 1 -iter 10 -temp 0  -reboot 5 -wpt 5 -o ../output/3.5-1-10-0-all/0 -output-file generated_code.c\n",
      "python3 main.py generate_code -he ../no_loop_problems/38/specification.h -ieg 1 -iter 10 -temp 0  -reboot 5 -wpt 5 -o ../output/3.5-1-10-0-all/38 -output-file generated_code.c\n",
      "python3 main.py generate_code -he ../no_loop_problems/58/specification.h -ieg 1 -iter 10 -temp 0  -reboot 5 -wpt 5 -o ../output/3.5-1-10-0-all/58 -output-file generated_code.c\n",
      "python3 main.py generate_code -he ../no_loop_problems/73/specification.h -ieg 1 -iter 10 -temp 0  -reboot 5 -wpt 5 -o ../output/3.5-1-10-0-all/73 -output-file generated_code.c\n",
      "python3 main.py generate_code -he ../no_loop_problems/86/specification-old.h -ieg 1 -iter 10 -temp 0  -reboot 5 -wpt 5 -o ../output/3.5-1-10-0-all/86 -output-file generated_code.c\n",
      "python3 main.py generate_code -he ../no_loop_problems/104/specification.h -ieg 1 -iter 10 -temp 0  -reboot 5 -wpt 5 -o ../output/3.5-1-10-0-all/104 -output-file generated_code.c\n",
      "python3 main.py generate_code -he ../no_loop_problems/124/specification-old.h -ieg 1 -iter 10 -temp 0  -reboot 5 -wpt 5 -o ../output/3.5-1-10-0-all/124 -output-file generated_code.c\n",
      "python3 main.py generate_code -he ../no_loop_problems/139/specification.h -ieg 1 -iter 10 -temp 0  -reboot 5 -wpt 5 -o ../output/3.5-1-10-0-all/139 -output-file generated_code.c\n",
      "python3 main.py generate_code -he ../no_loop_problems/146/specification.h -ieg 1 -iter 10 -temp 0  -reboot 5 -wpt 5 -o ../output/3.5-1-10-0-all/146 -output-file generated_code.c\n",
      "python3 main.py generate_code -he ../no_loop_problems/161/specification-old.h -ieg 1 -iter 10 -temp 0  -reboot 5 -wpt 5 -o ../output/3.5-1-10-0-all/161 -output-file generated_code.c\n",
      "python3 main.py generate_code -he ../no_loop_problems/186/specification-old.h -ieg 1 -iter 10 -temp 0  -reboot 5 -wpt 5 -o ../output/3.5-1-10-0-all/186 -output-file generated_code.c\n",
      "python3 main.py generate_code -he ../no_loop_problems/193/specification-old.h -ieg 1 -iter 10 -temp 0  -reboot 5 -wpt 5 -o ../output/3.5-1-10-0-all/193 -output-file generated_code.c\n",
      "python3 main.py generate_code -he ../no_loop_problems/237/specification-old.h -ieg 1 -iter 10 -temp 0  -reboot 5 -wpt 5 -o ../output/3.5-1-10-0-all/237 -output-file generated_code.c\n",
      "python3 main.py generate_code -he ../no_loop_problems/269/specification-old.h -ieg 1 -iter 10 -temp 0  -reboot 5 -wpt 5 -o ../output/3.5-1-10-0-all/269 -output-file generated_code.c\n",
      "python3 main.py generate_code -he ../no_loop_problems/284/specification.h -ieg 1 -iter 10 -temp 0  -reboot 5 -wpt 5 -o ../output/3.5-1-10-0-all/284 -output-file generated_code.c\n",
      "python3 main.py generate_code -he ../no_loop_problems/301/specification-old.h -ieg 1 -iter 10 -temp 0  -reboot 5 -wpt 5 -o ../output/3.5-1-10-0-all/301 -output-file generated_code.c\n",
      "python3 main.py generate_code -he ../no_loop_problems/376/specification-old.h -ieg 1 -iter 10 -temp 0  -reboot 5 -wpt 5 -o ../output/3.5-1-10-0-all/376 -output-file generated_code.c\n",
      "python3 main.py generate_code -he ../no_loop_problems/379/specification-old.h -ieg 1 -iter 10 -temp 0  -reboot 5 -wpt 5 -o ../output/3.5-1-10-0-all/379 -output-file generated_code.c\n",
      "python3 main.py generate_code -he ../no_loop_problems/427/specification-old.h -ieg 1 -iter 10 -temp 0  -reboot 5 -wpt 5 -o ../output/3.5-1-10-0-all/427 -output-file generated_code.c\n",
      "python3 main.py generate_code -he ../no_loop_problems/438/specification.h -ieg 1 -iter 10 -temp 0  -reboot 5 -wpt 5 -o ../output/3.5-1-10-0-all/438 -output-file generated_code.c\n",
      "python3 main.py generate_code -he ../no_loop_problems/457/specification-old.h -ieg 1 -iter 10 -temp 0  -reboot 5 -wpt 5 -o ../output/3.5-1-10-0-all/457 -output-file generated_code.c\n",
      "python3 main.py generate_code -he ../no_loop_problems/640/specification-old.h -ieg 1 -iter 10 -temp 0  -reboot 5 -wpt 5 -o ../output/3.5-1-10-0-all/640 -output-file generated_code.c\n",
      "python3 main.py generate_code -he ../no_loop_problems/653/specification-old.h -ieg 1 -iter 10 -temp 0  -reboot 5 -wpt 5 -o ../output/3.5-1-10-0-all/653 -output-file generated_code.c\n",
      "python3 main.py generate_code -he ../no_loop_problems/757/specification-old.h -ieg 1 -iter 10 -temp 0  -reboot 5 -wpt 5 -o ../output/3.5-1-10-0-all/757 -output-file generated_code.c\n",
      "python3 main.py generate_code -he ../no_loop_problems/834/specification-old.h -ieg 1 -iter 10 -temp 0  -reboot 5 -wpt 5 -o ../output/3.5-1-10-0-all/834 -output-file generated_code.c\n",
      "python3 main.py generate_code -he ../no_loop_problems/932/specification-old.h -ieg 1 -iter 10 -temp 0  -reboot 5 -wpt 5 -o ../output/3.5-1-10-0-all/932 -output-file generated_code.c\n",
      "python3 main.py generate_code -he ../no_loop_problems/976/specification-old.h -ieg 1 -iter 10 -temp 0  -reboot 5 -wpt 5 -o ../output/3.5-1-10-0-all/976 -output-file generated_code.c\n",
      "python3 main.py generate_code -he ../no_loop_problems/1166/specification-old.h -ieg 1 -iter 10 -temp 0  -reboot 5 -wpt 5 -o ../output/3.5-1-10-0-all/1166 -output-file generated_code.c\n",
      "python3 main.py generate_code -he ../no_loop_problems/1347/specification-old.h -ieg 1 -iter 10 -temp 0  -reboot 5 -wpt 5 -o ../output/3.5-1-10-0-all/1347 -output-file generated_code.c\n",
      "python3 main.py generate_code -he ../no_loop_problems/1804/specification.h -ieg 1 -iter 10 -temp 0  -reboot 5 -wpt 5 -o ../output/3.5-1-10-0-all/1804 -output-file generated_code.c\n"
     ]
    }
   ],
   "source": [
    "# prints the command\n",
    "\n",
    "# print all folders in the directory sorted by name\n",
    "#\n",
    "folders = os.listdir('../no_loop_problems/')\n",
    "\n",
    "# Sort on number\n",
    "folders.sort(key=lambda x: int(x.split('-')[0]))\n",
    "\n",
    "# Print if the folder contains either \" specification.h\" or \"specification-old.h\"\n",
    "for folder in folders:\n",
    "    if \"specification-old.h\" in os.listdir(f'../no_loop_problems/{folder}'):\n",
    "        print(f\"python3 main.py generate_code -he ../no_loop_problems/{folder}/specification-old.h -ieg 1 -iter 10 -temp 0  -reboot 5 -wpt 5 -o ../output/3.5-1-10-0-all/{folder} -output-file generated_code.c\")\n",
    "    elif \"specification.h\" in os.listdir(f'../no_loop_problems/{folder}'):\n",
    "        print(f\"python3 main.py generate_code -he ../no_loop_problems/{folder}/specification.h -ieg 1 -iter 10 -temp 0  -reboot 5 -wpt 5 -o ../output/3.5-1-10-0-all/{folder} -output-file generated_code.c\")"
   ]
  }
 ],
 "metadata": {
  "kernelspec": {
   "display_name": "Python 3",
   "language": "python",
   "name": "python3"
  },
  "language_info": {
   "codemirror_mode": {
    "name": "ipython",
    "version": 3
   },
   "file_extension": ".py",
   "mimetype": "text/x-python",
   "name": "python",
   "nbconvert_exporter": "python",
   "pygments_lexer": "ipython3",
   "version": "3.11.9"
  }
 },
 "nbformat": 4,
 "nbformat_minor": 2
}
