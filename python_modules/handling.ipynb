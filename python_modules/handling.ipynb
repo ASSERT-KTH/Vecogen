{
 "cells": [
  {
   "cell_type": "markdown",
   "metadata": {},
   "source": [
    "## Handling of results from a single run of the simulation"
   ]
  },
  {
   "cell_type": "code",
   "execution_count": 1,
   "metadata": {},
   "outputs": [],
   "source": [
    "# Import libraries\n",
    "import pandas as pd\n",
    "import json\n",
    "import os \n",
    "import subprocess\n",
    "import sys\n"
   ]
  },
  {
   "cell_type": "code",
   "execution_count": 22,
   "metadata": {},
   "outputs": [
    {
     "name": "stdout",
     "output_type": "stream",
     "text": [
      "python3 main.py generate_code -he ../no_loop_problems/0/specification-old.h -ieg 1 -iter 1 -temp 1  -reboot 5 -wpt 5 -o ../output/3.5-1-1-1-all/0 -output-file generated_code.c\n",
      "\n",
      "Traceback (most recent call last):\n",
      "  File \"c:\\Users\\MAL Sevenhuijsen\\Documents\\School\\Master\\S4\\Thesis\\Generate-formally-verified-code-usin-LLMs\\python_modules\\main.py\", line 199, in <module>\n",
      "    switcher.get(arguments.function, lambda: \"Invalid function\")(arguments)\n",
      "  File \"c:\\Users\\MAL Sevenhuijsen\\Documents\\School\\Master\\S4\\Thesis\\Generate-formally-verified-code-usin-LLMs\\python_modules\\main.py\", line 78, in generate_code\n",
      "    require_solver(args)\n",
      "  File \"c:\\Users\\MAL Sevenhuijsen\\Documents\\School\\Master\\S4\\Thesis\\Generate-formally-verified-code-usin-LLMs\\python_modules\\helper_files\\verify_input.py\", line 99, in require_solver\n",
      "    available_solvers = solvers()\n",
      "  File \"c:\\Users\\MAL Sevenhuijsen\\Documents\\School\\Master\\S4\\Thesis\\Generate-formally-verified-code-usin-LLMs\\python_modules\\Frama_C\\solvers.py\", line 18, in solvers\n",
      "    solvers_path = std_out_list[-2].partition(\"/\")[1:3]\n",
      "IndexError: list index out of range\n",
      "\n"
     ]
    },
    {
     "ename": "FileNotFoundError",
     "evalue": "[Errno 2] No such file or directory: '../output/{output_folder}/{folder_name}/results.txt'",
     "output_type": "error",
     "traceback": [
      "\u001b[1;31m---------------------------------------------------------------------------\u001b[0m",
      "\u001b[1;31mFileNotFoundError\u001b[0m                         Traceback (most recent call last)",
      "Cell \u001b[1;32mIn[22], line 36\u001b[0m\n\u001b[0;32m     32\u001b[0m \u001b[38;5;28mprint\u001b[39m(output\u001b[38;5;241m.\u001b[39mstderr\u001b[38;5;241m.\u001b[39mdecode(\u001b[38;5;124m'\u001b[39m\u001b[38;5;124mutf-8\u001b[39m\u001b[38;5;124m'\u001b[39m))\n\u001b[0;32m     34\u001b[0m \u001b[38;5;66;03m# Print the command to run the tests\u001b[39;00m\n\u001b[0;32m     35\u001b[0m \u001b[38;5;66;03m# Read the output given in the file \u001b[39;00m\n\u001b[1;32m---> 36\u001b[0m \u001b[38;5;28;01mwith\u001b[39;00m \u001b[38;5;28;43mopen\u001b[39;49m\u001b[43m(\u001b[49m\u001b[38;5;124;43m'\u001b[39;49m\u001b[38;5;124;43m../output/\u001b[39;49m\u001b[38;5;132;43;01m{output_folder}\u001b[39;49;00m\u001b[38;5;124;43m/\u001b[39;49m\u001b[38;5;132;43;01m{folder_name}\u001b[39;49;00m\u001b[38;5;124;43m/results.txt\u001b[39;49m\u001b[38;5;124;43m'\u001b[39;49m\u001b[43m,\u001b[49m\u001b[43m \u001b[49m\u001b[38;5;124;43m'\u001b[39;49m\u001b[38;5;124;43mr\u001b[39;49m\u001b[38;5;124;43m'\u001b[39;49m\u001b[43m)\u001b[49m \u001b[38;5;28;01mas\u001b[39;00m file:\n\u001b[0;32m     37\u001b[0m     \u001b[38;5;66;03m# Read the file which contains an array\u001b[39;00m\n\u001b[0;32m     38\u001b[0m     data \u001b[38;5;241m=\u001b[39m json\u001b[38;5;241m.\u001b[39mload(file)\n\u001b[0;32m     40\u001b[0m \u001b[38;5;66;03m# Create an empty dataframe that will be filled with info of the iterations\u001b[39;00m\n",
      "File \u001b[1;32m~\\AppData\\Local\\Packages\\PythonSoftwareFoundation.Python.3.10_qbz5n2kfra8p0\\LocalCache\\local-packages\\Python310\\site-packages\\IPython\\core\\interactiveshell.py:308\u001b[0m, in \u001b[0;36m_modified_open\u001b[1;34m(file, *args, **kwargs)\u001b[0m\n\u001b[0;32m    301\u001b[0m \u001b[38;5;28;01mif\u001b[39;00m file \u001b[38;5;129;01min\u001b[39;00m {\u001b[38;5;241m0\u001b[39m, \u001b[38;5;241m1\u001b[39m, \u001b[38;5;241m2\u001b[39m}:\n\u001b[0;32m    302\u001b[0m     \u001b[38;5;28;01mraise\u001b[39;00m \u001b[38;5;167;01mValueError\u001b[39;00m(\n\u001b[0;32m    303\u001b[0m         \u001b[38;5;124mf\u001b[39m\u001b[38;5;124m\"\u001b[39m\u001b[38;5;124mIPython won\u001b[39m\u001b[38;5;124m'\u001b[39m\u001b[38;5;124mt let you open fd=\u001b[39m\u001b[38;5;132;01m{\u001b[39;00mfile\u001b[38;5;132;01m}\u001b[39;00m\u001b[38;5;124m by default \u001b[39m\u001b[38;5;124m\"\u001b[39m\n\u001b[0;32m    304\u001b[0m         \u001b[38;5;124m\"\u001b[39m\u001b[38;5;124mas it is likely to crash IPython. If you know what you are doing, \u001b[39m\u001b[38;5;124m\"\u001b[39m\n\u001b[0;32m    305\u001b[0m         \u001b[38;5;124m\"\u001b[39m\u001b[38;5;124myou can use builtins\u001b[39m\u001b[38;5;124m'\u001b[39m\u001b[38;5;124m open.\u001b[39m\u001b[38;5;124m\"\u001b[39m\n\u001b[0;32m    306\u001b[0m     )\n\u001b[1;32m--> 308\u001b[0m \u001b[38;5;28;01mreturn\u001b[39;00m io_open(file, \u001b[38;5;241m*\u001b[39margs, \u001b[38;5;241m*\u001b[39m\u001b[38;5;241m*\u001b[39mkwargs)\n",
      "\u001b[1;31mFileNotFoundError\u001b[0m: [Errno 2] No such file or directory: '../output/{output_folder}/{folder_name}/results.txt'"
     ]
    }
   ],
   "source": [
    "# The settings\n",
    "model = \"3.5\"\n",
    "initial_examples_generated = 1\n",
    "feedback_iterations = 1\n",
    "temperature = 1\n",
    "reboot = 5\n",
    "specifications = \"all\"\n",
    "output_folder = f\"{model}-{initial_examples_generated}-{feedback_iterations}-{temperature}-{specifications}\"\n",
    "\n",
    "\n",
    "# print all folders in the directory sorted by name\n",
    "folders = os.listdir('../no_loop_problems/')\n",
    "\n",
    "# Sort on number\n",
    "folders.sort(key=lambda x: int(x.split('-')[0]))\n",
    "\n",
    "# Print if the folder contains either \" specification.h\" or \"specification-old.h\"\n",
    "# for folder_name in folders:\n",
    "\n",
    "folder_name = folders[0]\n",
    "files_folder = os.listdir(f'../no_loop_problems/{folder_name}')\n",
    "# Get the specification file\n",
    "specification_file = \"specification-old.h\" if \"specification-old.h\" in files_folder else \"specification-old.h\"\n",
    "\n",
    "# Print the command to generate the code\n",
    "command = f\"python3 main.py generate_code -he ../no_loop_problems/{folder_name}/{specification_file} -ieg {initial_examples_generated} -iter {feedback_iterations} -temp {temperature}  -reboot {reboot} -wpt 5 -o ../output/{output_folder}/{folder_name} -output-file generated_code.c\"\n",
    "\n",
    "# Run the command\n",
    "print(command)\n",
    "output = subprocess.run(command, shell=True, stdout=subprocess.PIPE, stderr=subprocess.PIPE)\n",
    "print(output.stdout.decode('utf-8'))\n",
    "print(output.stderr.decode('utf-8'))\n",
    "\n",
    "# Print the command to run the tests\n",
    "# Read the output given in the file \n",
    "with open('../output/{output_folder}/{folder_name}/results.txt', 'r') as file:\n",
    "    # Read the file which contains an array\n",
    "    data = json.load(file)\n",
    "    \n",
    "# Create an empty dataframe that will be filled with info of the iterations\n",
    "iteration_array = []\n",
    "\n",
    "# for each iteration in the array print it\n",
    "for i in data:\n",
    "    # print the amount of passed tests\n",
    "    iteration_information = (f\"{i['verified_goals']}\", f\"{i['test_information'][-1]['summary']['passed']} / {i['test_information'][-1]['summary']['total']}\")\n",
    "\n",
    "    # Add it as a column to the dataframe\n",
    "    iteration_array.append(iteration_information)\n",
    "\n",
    "# Create a dataframe with the information of the iterations\n",
    "df = pd.DataFrame(iteration_array, columns=['Passed tests', 'Verified goals'])\n",
    "\n",
    "# export it to an excel file\n",
    "df.transpose().to_clipboard(index=False, header=False)\n",
    "\n",
    "# wait until user presses enter \n",
    "input(\"Press Enter to continue...\")\n"
   ]
  },
  {
   "cell_type": "code",
   "execution_count": 3,
   "metadata": {},
   "outputs": [
    {
     "name": "stdout",
     "output_type": "stream",
     "text": [
      "python3 main.py generate_code_folder -d ../no_loop_problems/ -ieg 100 -iter 0 -temp 1  -reboot 5 -wpt 5 -o ../output/3.5-100-0-1-all-all -output-file generated_code.c\n"
     ]
    }
   ],
   "source": [
    "# The settings\n",
    "model = \"3.5\"\n",
    "temperature = 1\n",
    "initial_examples_generated = 100\n",
    "feedback_iterations = 0\n",
    "reboot = 5\n",
    "specifications = \"all\"\n",
    "output_folder = f\"{model}-{initial_examples_generated}-{feedback_iterations}-{temperature}-{specifications}-{specifications}\"\n",
    "\n",
    "# Print the command to generate the code\n",
    "print(f\"python3 main.py generate_code_folder -d ../no_loop_problems/ -ieg {initial_examples_generated} -iter {feedback_iterations} -temp {temperature}  -reboot {reboot} -wpt 5 -o ../output/{output_folder} -output-file generated_code.c\")\n"
   ]
  },
  {
   "cell_type": "code",
   "execution_count": 60,
   "metadata": {},
   "outputs": [
    {
     "ename": "FileNotFoundError",
     "evalue": "[Errno 2] No such file or directory: '../output/3.5-100-0-0-all/0/results.txt'",
     "output_type": "error",
     "traceback": [
      "\u001b[1;31m---------------------------------------------------------------------------\u001b[0m",
      "\u001b[1;31mFileNotFoundError\u001b[0m                         Traceback (most recent call last)",
      "Cell \u001b[1;32mIn[60], line 12\u001b[0m\n\u001b[0;32m      8\u001b[0m iteration_array \u001b[38;5;241m=\u001b[39m []\n\u001b[0;32m     10\u001b[0m \u001b[38;5;28;01mfor\u001b[39;00m folder_name \u001b[38;5;129;01min\u001b[39;00m folders:\n\u001b[0;32m     11\u001b[0m     \u001b[38;5;66;03m# Read the output given in the file \u001b[39;00m\n\u001b[1;32m---> 12\u001b[0m     \u001b[38;5;28;01mwith\u001b[39;00m \u001b[38;5;28;43mopen\u001b[39;49m\u001b[43m(\u001b[49m\u001b[38;5;124;43mf\u001b[39;49m\u001b[38;5;124;43m\"\u001b[39;49m\u001b[38;5;124;43m../output/\u001b[39;49m\u001b[38;5;132;43;01m{\u001b[39;49;00m\u001b[43moutput_folder\u001b[49m\u001b[38;5;132;43;01m}\u001b[39;49;00m\u001b[38;5;124;43m/\u001b[39;49m\u001b[38;5;132;43;01m{\u001b[39;49;00m\u001b[43mfolder_name\u001b[49m\u001b[38;5;132;43;01m}\u001b[39;49;00m\u001b[38;5;124;43m/results.txt\u001b[39;49m\u001b[38;5;124;43m\"\u001b[39;49m\u001b[43m,\u001b[49m\u001b[43m \u001b[49m\u001b[38;5;124;43m'\u001b[39;49m\u001b[38;5;124;43mr\u001b[39;49m\u001b[38;5;124;43m'\u001b[39;49m\u001b[43m)\u001b[49m \u001b[38;5;28;01mas\u001b[39;00m file:\n\u001b[0;32m     13\u001b[0m         \u001b[38;5;66;03m# Read the file which contains an array\u001b[39;00m\n\u001b[0;32m     14\u001b[0m         data \u001b[38;5;241m=\u001b[39m json\u001b[38;5;241m.\u001b[39mload(file)\n\u001b[0;32m     16\u001b[0m     verified_goals \u001b[38;5;241m=\u001b[39m []\n",
      "File \u001b[1;32m~\\AppData\\Local\\Packages\\PythonSoftwareFoundation.Python.3.10_qbz5n2kfra8p0\\LocalCache\\local-packages\\Python310\\site-packages\\IPython\\core\\interactiveshell.py:308\u001b[0m, in \u001b[0;36m_modified_open\u001b[1;34m(file, *args, **kwargs)\u001b[0m\n\u001b[0;32m    301\u001b[0m \u001b[38;5;28;01mif\u001b[39;00m file \u001b[38;5;129;01min\u001b[39;00m {\u001b[38;5;241m0\u001b[39m, \u001b[38;5;241m1\u001b[39m, \u001b[38;5;241m2\u001b[39m}:\n\u001b[0;32m    302\u001b[0m     \u001b[38;5;28;01mraise\u001b[39;00m \u001b[38;5;167;01mValueError\u001b[39;00m(\n\u001b[0;32m    303\u001b[0m         \u001b[38;5;124mf\u001b[39m\u001b[38;5;124m\"\u001b[39m\u001b[38;5;124mIPython won\u001b[39m\u001b[38;5;124m'\u001b[39m\u001b[38;5;124mt let you open fd=\u001b[39m\u001b[38;5;132;01m{\u001b[39;00mfile\u001b[38;5;132;01m}\u001b[39;00m\u001b[38;5;124m by default \u001b[39m\u001b[38;5;124m\"\u001b[39m\n\u001b[0;32m    304\u001b[0m         \u001b[38;5;124m\"\u001b[39m\u001b[38;5;124mas it is likely to crash IPython. If you know what you are doing, \u001b[39m\u001b[38;5;124m\"\u001b[39m\n\u001b[0;32m    305\u001b[0m         \u001b[38;5;124m\"\u001b[39m\u001b[38;5;124myou can use builtins\u001b[39m\u001b[38;5;124m'\u001b[39m\u001b[38;5;124m open.\u001b[39m\u001b[38;5;124m\"\u001b[39m\n\u001b[0;32m    306\u001b[0m     )\n\u001b[1;32m--> 308\u001b[0m \u001b[38;5;28;01mreturn\u001b[39;00m io_open(file, \u001b[38;5;241m*\u001b[39margs, \u001b[38;5;241m*\u001b[39m\u001b[38;5;241m*\u001b[39mkwargs)\n",
      "\u001b[1;31mFileNotFoundError\u001b[0m: [Errno 2] No such file or directory: '../output/3.5-100-0-0-all/0/results.txt'"
     ]
    }
   ],
   "source": [
    "# print all folders in the directory sorted by name\n",
    "folders = os.listdir('../no_loop_problems/')\n",
    "\n",
    "# Sort on number\n",
    "folders.sort(key=lambda x: int(x.split('-')[0]))\n",
    "\n",
    "# Create an empty dataframe that will be filled with info of the iterations\n",
    "iteration_array = []\n",
    "\n",
    "for folder_name in folders:\n",
    "    # Read the output given in the file \n",
    "    with open(f\"../output/{output_folder}/{folder_name}/results.txt\", 'r') as file:\n",
    "        # Read the file which contains an array\n",
    "        data = json.load(file)\n",
    "        \n",
    "    verified_goals = []\n",
    "    passed_tests = []\n",
    "\n",
    "    # for each iteration in the array add it to the dataframe\n",
    "    for i in data:\n",
    "        # print the amount of passed tests\n",
    "        verified_goals.append(i['verified_goals'])\n",
    "        passed_tests.append(f\"{i['test_information'][-1]['summary']['passed']} / {i['test_information'][-1]['summary']['total']}\")\n",
    "\n",
    "    # Add it as a column to the dataframe\n",
    "    iteration_array.append(verified_goals)\n",
    "    iteration_array.append(passed_tests)\n",
    "\n",
    "# Create a dataframe with the information of the iterations\n",
    "df = pd.DataFrame(iteration_array)\n",
    "\n",
    "# export it to an excel file\n",
    "df.to_clipboard(index=False, header=False)\n",
    "    "
   ]
  }
 ],
 "metadata": {
  "kernelspec": {
   "display_name": "Python 3",
   "language": "python",
   "name": "python3"
  },
  "language_info": {
   "codemirror_mode": {
    "name": "ipython",
    "version": 3
   },
   "file_extension": ".py",
   "mimetype": "text/x-python",
   "name": "python",
   "nbconvert_exporter": "python",
   "pygments_lexer": "ipython3",
   "version": "3.10.11"
  }
 },
 "nbformat": 4,
 "nbformat_minor": 2
}
