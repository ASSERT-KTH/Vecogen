{
 "cells": [
  {
   "cell_type": "code",
   "execution_count": 62,
   "metadata": {},
   "outputs": [],
   "source": [
    "# Import libraries\n",
    "import json\n",
    "import os \n",
    "import math\n",
    "import shutil\n"
   ]
  },
  {
   "cell_type": "code",
   "execution_count": 49,
   "metadata": {},
   "outputs": [
    {
     "name": "stdout",
     "output_type": "stream",
     "text": [
      "3.5-10-10-1-solution-tied\n"
     ]
    }
   ],
   "source": [
    "folder_name = \"../old/3.5-10-10-1-solution-tied\"\n",
    "\n",
    "folder_name_short = folder_name.split(\"/\")[-1]\n",
    "initial_examples = 10\n",
    "print(folder_name_short)"
   ]
  },
  {
   "cell_type": "code",
   "execution_count": 65,
   "metadata": {},
   "outputs": [],
   "source": [
    "# Get all folders in the folder\n",
    "subfolders = os.listdir(folder_name)\n",
    "\n",
    "# Sort the folders in the folder based on the integer value\n",
    "subfolders = sorted(subfolders, key=lambda x: int(x.split('.')[0]))\n",
    "\n",
    "# Filter only on folders < 30\n",
    "# subfolders = [x for x in subfolders if int(x.split('.')[0]) < 30]\n",
    "\n",
    "# loop over each folder\n",
    "for folder in subfolders:\n",
    "    # Get all files in the folder\n",
    "    files = os.listdir(folder_name + \"/\" + folder)\n",
    "    # Read \"results.txt\" if it exists\n",
    "    if \"results.txt\" in files:\n",
    "        # Have values for book keeping\n",
    "        completions = 0\n",
    "        tokens_used = 0\n",
    "        with open(folder_name + \"/\" + folder + \"/results.txt\", \"r\") as f:\n",
    "            result = f.read()\n",
    "            verified_so_far = False\n",
    "                        \n",
    "            # Read the result as a json\n",
    "            result = json.loads(result)\n",
    "            \n",
    "\n",
    "            i = 0\n",
    "            # For each iteration print it\n",
    "            while i < len(result):\n",
    "                if (verified_so_far == False and result[i]['verified'] == True):\n",
    "                    verified_so_far = True\n",
    "                    completions += 1\n",
    "                    tokens_used += result[i]['tokens_used']\n",
    "\n",
    "\n",
    "                elif (verified_so_far == True):\n",
    "                    # Remove this iteration\n",
    "                    result.pop(i)\n",
    "                    i -= 1\n",
    "                else:\n",
    "                    completions += 1\n",
    "                    tokens_used = result[i]['tokens_used']\n",
    "                i += 1\n",
    "                \n",
    "        total_completions = math.floor(completions + initial_examples - 1) / initial_examples\n",
    "            \n",
    "        # Add the extra information to the last iteration\n",
    "        result[-1]['total_completions'] = int(total_completions)\n",
    "        result[-1]['total_tokens_used'] = int(tokens_used)\n",
    "        result[-1]['total_completions_used'] = int(completions)\n",
    "        # Create the export folder\n",
    "        export_folder = f\"../old/parsed/{folder_name_short}/{folder}\"\n",
    "\n",
    "        # Create the folder if it does not exist\n",
    "        if not os.path.exists(export_folder):\n",
    "            os.makedirs(export_folder)\n",
    "\n",
    "        json.dump(result, open(export_folder + \"/results.txt\", \"w\"), indent=4)\n",
    "        \n",
    "        # Copy the generated_code.c file to the new folder\n",
    "        shutil.copy(f\"{folder_name}/{folder}/generated_code.c\", f\"{export_folder}/generated_code.c\")\n",
    "        "
   ]
  }
 ],
 "metadata": {
  "kernelspec": {
   "display_name": "Python 3",
   "language": "python",
   "name": "python3"
  },
  "language_info": {
   "codemirror_mode": {
    "name": "ipython",
    "version": 3
   },
   "file_extension": ".py",
   "mimetype": "text/x-python",
   "name": "python",
   "nbconvert_exporter": "python",
   "pygments_lexer": "ipython3",
   "version": "3.10.11"
  }
 },
 "nbformat": 4,
 "nbformat_minor": 2
}
