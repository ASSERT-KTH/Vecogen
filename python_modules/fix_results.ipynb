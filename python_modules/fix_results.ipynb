{
 "cells": [
  {
   "cell_type": "code",
   "execution_count": 1,
   "metadata": {},
   "outputs": [],
   "source": [
    "# Import libraries\n",
    "import json\n",
    "import os \n",
    "import math\n",
    "import shutil\n"
   ]
  },
  {
   "cell_type": "code",
   "execution_count": 11,
   "metadata": {},
   "outputs": [
    {
     "name": "stdout",
     "output_type": "stream",
     "text": [
      "3.5-1-10-0-solution-tied-one-shot\n"
     ]
    }
   ],
   "source": [
    "folder_name = \"../output/3.5-1-10-0-solution-tied-one-shot\"\n",
    "\n",
    "folder_name_short = folder_name.split(\"/\")[-1]\n",
    "initial_examples = 1\n",
    "print(folder_name_short)"
   ]
  },
  {
   "cell_type": "code",
   "execution_count": 38,
   "metadata": {},
   "outputs": [
    {
     "name": "stdout",
     "output_type": "stream",
     "text": [
      "0 1337\n",
      "86 1455\n",
      "124 999\n",
      "139 1089\n",
      "237 712\n",
      "301 8723\n",
      "376 1351\n",
      "379 12223\n",
      "427 1201\n",
      "757 20033\n",
      "834 874\n",
      "932 12203\n",
      "976 5506\n",
      "1166 1256\n",
      "1347 33749\n"
     ]
    }
   ],
   "source": [
    "# Get all folders in the folder\n",
    "subfolders = os.listdir(folder_name)\n",
    "\n",
    "# Sort the folders in the folder based on the integer value\n",
    "subfolders = sorted(subfolders, key=lambda x: int(x.split('.')[0]))\n",
    "\n",
    "# Filter only on folders < 30\n",
    "#subfolders = [x for x in subfolders if int(x.split('.')[0]) == 104]\n",
    "\n",
    "# loop over each folder\n",
    "for folder in subfolders:\n",
    "    # Get all files in the folder\n",
    "    files = os.listdir(folder_name + \"/\" + folder)\n",
    "    # Read \"results.txt\" if it exists\n",
    "    if \"results.txt\" in files:\n",
    "        # Have values for book keeping\n",
    "        completions = 0\n",
    "        tokens_used = 0\n",
    "        with open(folder_name + \"/\" + folder + \"/results.txt\", \"r\") as f:\n",
    "            result = f.read()\n",
    "            verified_so_far = False\n",
    "                        \n",
    "            # Read the result as a json\n",
    "            result = json.loads(result)\n",
    "            \n",
    "            i = 0\n",
    "            # For each iteration print it\n",
    "            while i < len(result):\n",
    "                if (verified_so_far == False and result[i]['verified'] == True):\n",
    "                    verified_so_far = True\n",
    "                    completions += 1\n",
    "                    tokens_used += result[i]['tokens_used']\n",
    "\n",
    "                elif (verified_so_far == True):\n",
    "                    # Remove this iteration\n",
    "                    result.pop(i)\n",
    "                    i -= 1\n",
    "                else:\n",
    "                    completions += 1\n",
    "                    tokens_used += result[i]['tokens_used']\n",
    "                i += 1\n",
    "                \n",
    "        total_completions = math.floor((completions + initial_examples - 1) / initial_examples) * initial_examples\n",
    "\n",
    "        # Add the extra information to the last iteration\n",
    "        print(folder, tokens_used)\n",
    "        result[-1]['total_completions'] = int(total_completions)\n",
    "        result[-1]['total_tokens_used'] = int(tokens_used)\n",
    "        result[-1]['total_completions_used'] = int(completions)\n",
    "        # Create the export folder\n",
    "        export_folder = f\"../output/{folder_name_short}/{folder}\"\n",
    "\n",
    "        # Create the folder if it does not exist\n",
    "        if not os.path.exists(export_folder):\n",
    "            os.makedirs(export_folder)\n",
    "\n",
    "        json.dump(result, open(export_folder + \"/results.txt\", \"w\"), indent=4)\n",
    "        \n",
    "        # Copy the generated_code.c file to the new folder\n",
    "        shutil.copy(f\"{folder_name}/{folder}/generated_code.c\", f\"{export_folder}/generated_code.c\")\n",
    "        "
   ]
  },
  {
   "cell_type": "code",
   "execution_count": 9,
   "metadata": {},
   "outputs": [
    {
     "ename": "FileNotFoundError",
     "evalue": "[WinError 3] The system cannot find the path specified: '../old/3.5-1-10-0-solution-tied-one-shot'",
     "output_type": "error",
     "traceback": [
      "\u001b[1;31m---------------------------------------------------------------------------\u001b[0m",
      "\u001b[1;31mFileNotFoundError\u001b[0m                         Traceback (most recent call last)",
      "Cell \u001b[1;32mIn[9], line 2\u001b[0m\n\u001b[0;32m      1\u001b[0m \u001b[38;5;66;03m# Get all folders in the folder\u001b[39;00m\n\u001b[1;32m----> 2\u001b[0m subfolders \u001b[38;5;241m=\u001b[39m \u001b[43mos\u001b[49m\u001b[38;5;241;43m.\u001b[39;49m\u001b[43mlistdir\u001b[49m\u001b[43m(\u001b[49m\u001b[43mfolder_name\u001b[49m\u001b[43m)\u001b[49m\n\u001b[0;32m      4\u001b[0m \u001b[38;5;66;03m# Sort the folders in the folder based on the integer value\u001b[39;00m\n\u001b[0;32m      5\u001b[0m subfolders \u001b[38;5;241m=\u001b[39m \u001b[38;5;28msorted\u001b[39m(subfolders, key\u001b[38;5;241m=\u001b[39m\u001b[38;5;28;01mlambda\u001b[39;00m x: \u001b[38;5;28mint\u001b[39m(x\u001b[38;5;241m.\u001b[39msplit(\u001b[38;5;124m'\u001b[39m\u001b[38;5;124m.\u001b[39m\u001b[38;5;124m'\u001b[39m)[\u001b[38;5;241m0\u001b[39m]))\n",
      "\u001b[1;31mFileNotFoundError\u001b[0m: [WinError 3] The system cannot find the path specified: '../old/3.5-1-10-0-solution-tied-one-shot'"
     ]
    }
   ],
   "source": [
    "# Get all folders in the folder\n",
    "subfolders = os.listdir(folder_name)\n",
    "\n",
    "# Sort the folders in the folder based on the integer value\n",
    "subfolders = sorted(subfolders, key=lambda x: int(x.split('.')[0]))\n",
    "\n",
    "# loop over each folder\n",
    "for folder in subfolders:\n",
    "    # Get all files in the folder\n",
    "    files = os.listdir(folder_name + \"/\" + folder)\n",
    "    # Read \"results.txt\" if it exists\n",
    "    if \"results.txt\" in files:\n",
    "        with open(folder_name + \"/\" + folder + \"/results.txt\", \"r\") as f:\n",
    "            result = f.read()\n",
    "            result = json.loads(result)\n",
    "            total_completions_used = int(result[-1]['total_completions_used'])\n",
    "            result[-1]['total_completions'] = math.ceil(total_completions_used / initial_examples) * initial_examples\n",
    "\n",
    "            # close the file\n",
    "            f.close()\n",
    "\n",
    "        json.dump(result, open(folder_name + \"/\" + folder + \"/results.txt\", \"w\"), indent=4)\n"
   ]
  },
  {
   "cell_type": "code",
   "execution_count": 12,
   "metadata": {},
   "outputs": [
    {
     "ename": "FileNotFoundError",
     "evalue": "[WinError 3] The system cannot find the path specified: '../3.5-1-10-0-solution-tied-one-shot'",
     "output_type": "error",
     "traceback": [
      "\u001b[1;31m---------------------------------------------------------------------------\u001b[0m",
      "\u001b[1;31mFileNotFoundError\u001b[0m                         Traceback (most recent call last)",
      "Cell \u001b[1;32mIn[12], line 2\u001b[0m\n\u001b[0;32m      1\u001b[0m \u001b[38;5;66;03m# Get all folders in the folder\u001b[39;00m\n\u001b[1;32m----> 2\u001b[0m subfolders \u001b[38;5;241m=\u001b[39m \u001b[43mos\u001b[49m\u001b[38;5;241;43m.\u001b[39;49m\u001b[43mlistdir\u001b[49m\u001b[43m(\u001b[49m\u001b[43mfolder_name\u001b[49m\u001b[43m)\u001b[49m\n\u001b[0;32m      4\u001b[0m \u001b[38;5;66;03m# Sort the folders in the folder based on the integer value\u001b[39;00m\n\u001b[0;32m      5\u001b[0m subfolders \u001b[38;5;241m=\u001b[39m \u001b[38;5;28msorted\u001b[39m(subfolders, key\u001b[38;5;241m=\u001b[39m\u001b[38;5;28;01mlambda\u001b[39;00m x: \u001b[38;5;28mint\u001b[39m(x\u001b[38;5;241m.\u001b[39msplit(\u001b[38;5;124m'\u001b[39m\u001b[38;5;124m.\u001b[39m\u001b[38;5;124m'\u001b[39m)[\u001b[38;5;241m0\u001b[39m]))\n",
      "\u001b[1;31mFileNotFoundError\u001b[0m: [WinError 3] The system cannot find the path specified: '../3.5-1-10-0-solution-tied-one-shot'"
     ]
    }
   ],
   "source": [
    "# Get all folders in the folder\n",
    "subfolders = os.listdir(folder_name)\n",
    "\n",
    "# Sort the folders in the folder based on the integer value\n",
    "subfolders = sorted(subfolders, key=lambda x: int(x.split('.')[0]))\n",
    "\n",
    "# loop over each folder\n",
    "for folder in subfolders:\n",
    "        with open(folder_name + \"/\" + folder + \"/results.txt\", \"r\") as f:\n",
    "            result = f.read()\n",
    "            result = json.loads(result)\n",
    "            result[-1]['total_completions_used'] = int(result[-1][\"total_effective_completions\"])\n",
    "            f.close()\n",
    "\n",
    "        json.dump(result, open(folder_name + \"/\" + folder + \"/results.txt\", \"w\"), indent=4)\n"
   ]
  }
 ],
 "metadata": {
  "kernelspec": {
   "display_name": "Python 3",
   "language": "python",
   "name": "python3"
  },
  "language_info": {
   "codemirror_mode": {
    "name": "ipython",
    "version": 3
   },
   "file_extension": ".py",
   "mimetype": "text/x-python",
   "name": "python",
   "nbconvert_exporter": "python",
   "pygments_lexer": "ipython3",
   "version": "3.10.11"
  }
 },
 "nbformat": 4,
 "nbformat_minor": 2
}
