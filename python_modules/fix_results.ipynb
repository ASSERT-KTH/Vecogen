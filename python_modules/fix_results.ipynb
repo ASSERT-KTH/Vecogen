{
 "cells": [
  {
   "cell_type": "code",
   "execution_count": 1,
   "metadata": {},
   "outputs": [],
   "source": [
    "# Import libraries\n",
    "import json\n",
    "import os \n",
    "import math\n",
    "import shutil\n"
   ]
  },
  {
   "cell_type": "code",
   "execution_count": 37,
   "metadata": {},
   "outputs": [
    {
     "name": "stdout",
     "output_type": "stream",
     "text": [
      "3.5-10-10-1-descriptive-fs-desc\n"
     ]
    }
   ],
   "source": [
    "folder_name = \"../old/3.5-10-10-1-descriptive-fs-desc\"\n",
    "\n",
    "folder_name_short = folder_name.split(\"/\")[-1]\n",
    "initial_examples = 10\n",
    "print(folder_name_short)"
   ]
  },
  {
   "cell_type": "code",
   "execution_count": 38,
   "metadata": {},
   "outputs": [
    {
     "name": "stdout",
     "output_type": "stream",
     "text": [
      "0 1337\n",
      "86 1455\n",
      "124 999\n",
      "139 1089\n",
      "237 712\n",
      "301 8723\n",
      "376 1351\n",
      "379 12223\n",
      "427 1201\n",
      "757 20033\n",
      "834 874\n",
      "932 12203\n",
      "976 5506\n",
      "1166 1256\n",
      "1347 33749\n"
     ]
    }
   ],
   "source": [
    "# Get all folders in the folder\n",
    "subfolders = os.listdir(folder_name)\n",
    "\n",
    "# Sort the folders in the folder based on the integer value\n",
    "subfolders = sorted(subfolders, key=lambda x: int(x.split('.')[0]))\n",
    "\n",
    "# Filter only on folders < 30\n",
    "#subfolders = [x for x in subfolders if int(x.split('.')[0]) == 104]\n",
    "\n",
    "# loop over each folder\n",
    "for folder in subfolders:\n",
    "    # Get all files in the folder\n",
    "    files = os.listdir(folder_name + \"/\" + folder)\n",
    "    # Read \"results.txt\" if it exists\n",
    "    if \"results.txt\" in files:\n",
    "        # Have values for book keeping\n",
    "        completions = 0\n",
    "        tokens_used = 0\n",
    "        with open(folder_name + \"/\" + folder + \"/results.txt\", \"r\") as f:\n",
    "            result = f.read()\n",
    "            verified_so_far = False\n",
    "                        \n",
    "            # Read the result as a json\n",
    "            result = json.loads(result)\n",
    "            \n",
    "            i = 0\n",
    "            # For each iteration print it\n",
    "            while i < len(result):\n",
    "                if (verified_so_far == False and result[i]['verified'] == True):\n",
    "                    verified_so_far = True\n",
    "                    completions += 1\n",
    "                    tokens_used += result[i]['tokens_used']\n",
    "\n",
    "                elif (verified_so_far == True):\n",
    "                    # Remove this iteration\n",
    "                    result.pop(i)\n",
    "                    i -= 1\n",
    "                else:\n",
    "                    completions += 1\n",
    "                    tokens_used += result[i]['tokens_used']\n",
    "                i += 1\n",
    "                \n",
    "        total_completions = math.floor((completions + initial_examples - 1) / initial_examples) * initial_examples\n",
    "\n",
    "        # Add the extra information to the last iteration\n",
    "        print(folder, tokens_used)\n",
    "        result[-1]['total_completions'] = int(total_completions)\n",
    "        result[-1]['total_tokens_used'] = int(tokens_used)\n",
    "        result[-1]['total_completions_used'] = int(completions)\n",
    "        # Create the export folder\n",
    "        export_folder = f\"../output/{folder_name_short}/{folder}\"\n",
    "\n",
    "        # Create the folder if it does not exist\n",
    "        if not os.path.exists(export_folder):\n",
    "            os.makedirs(export_folder)\n",
    "\n",
    "        json.dump(result, open(export_folder + \"/results.txt\", \"w\"), indent=4)\n",
    "        \n",
    "        # Copy the generated_code.c file to the new folder\n",
    "        shutil.copy(f\"{folder_name}/{folder}/generated_code.c\", f\"{export_folder}/generated_code.c\")\n",
    "        "
   ]
  },
  {
   "cell_type": "code",
   "execution_count": 10,
   "metadata": {},
   "outputs": [
    {
     "name": "stdout",
     "output_type": "stream",
     "text": [
      "3.5-10-10-1-descriptive-fs-zero-shot\n",
      "../output/3.5-10-10-1-descriptive-fs-zero-shot\n"
     ]
    }
   ],
   "source": [
    "folder_name = \"../output/3.5-10-10-1-descriptive-fs-zero-shot\"\n",
    "\n",
    "folder_name_short = folder_name.split(\"/\")[-1]\n",
    "initial_examples = 10\n",
    "print(folder_name_short)\n",
    "print(folder_name)"
   ]
  },
  {
   "cell_type": "code",
   "execution_count": 11,
   "metadata": {},
   "outputs": [],
   "source": [
    "# Get all folders in the folder\n",
    "subfolders = os.listdir(folder_name)\n",
    "\n",
    "# Sort the folders in the folder based on the integer value\n",
    "subfolders = sorted(subfolders, key=lambda x: int(x.split('.')[0]))\n",
    "\n",
    "# loop over each folder\n",
    "for folder in subfolders:\n",
    "    # Get all files in the folder\n",
    "    files = os.listdir(folder_name + \"/\" + folder)\n",
    "    # Read \"results.txt\" if it exists\n",
    "    if \"results.txt\" in files:\n",
    "        with open(folder_name + \"/\" + folder + \"/results.txt\", \"r\") as f:\n",
    "            result = f.read()\n",
    "            result = json.loads(result)\n",
    "            total_completions_used = int(result[-1]['total_completions_used'])\n",
    "            result[-1]['total_completions'] = math.ceil(total_completions_used / initial_examples) * initial_examples\n",
    "\n",
    "            # close the file\n",
    "            f.close()\n",
    "\n",
    "        json.dump(result, open(folder_name + \"/\" + folder + \"/results.txt\", \"w\"), indent=4)\n"
   ]
  }
 ],
 "metadata": {
  "kernelspec": {
   "display_name": "Python 3",
   "language": "python",
   "name": "python3"
  },
  "language_info": {
   "codemirror_mode": {
    "name": "ipython",
    "version": 3
   },
   "file_extension": ".py",
   "mimetype": "text/x-python",
   "name": "python",
   "nbconvert_exporter": "python",
   "pygments_lexer": "ipython3",
   "version": "3.11.9"
  }
 },
 "nbformat": 4,
 "nbformat_minor": 2
}
