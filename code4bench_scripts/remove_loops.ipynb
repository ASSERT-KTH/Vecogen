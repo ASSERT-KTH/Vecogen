{
 "cells": [
  {
   "cell_type": "markdown",
   "metadata": {},
   "source": [
    "This file processes the code4bench data. It removes all samples with a loop of some sort\n"
   ]
  },
  {
   "cell_type": "code",
   "execution_count": 7,
   "metadata": {},
   "outputs": [],
   "source": [
    "import pandas as pd\n",
    "from bs4 import BeautifulSoup\n",
    "import re"
   ]
  },
  {
   "cell_type": "code",
   "execution_count": 6,
   "metadata": {},
   "outputs": [],
   "source": [
    "def clean_html(html):\n",
    "    text = BeautifulSoup(html, 'html.parser')\n",
    "    text = text.get_text(separator=\"\\n\", strip=True)\n",
    "    text = re.sub(r'\\s+', ' ', text)\n",
    "    \n",
    "    # Identify and format headers\n",
    "    headers = [\"Input\", \"Output\", \"Examples\", \"Note\"]\n",
    "    for header in headers:\n",
    "        text = text.replace(f\" {header} \", f\"\\n\\n{header}\\n\")\n",
    "        \n",
    "    return text"
   ]
  },
  {
   "cell_type": "code",
   "execution_count": 9,
   "metadata": {},
   "outputs": [],
   "source": [
    "# Load the data from the json\n",
    "data = pd.read_json('code4bench_unfiltered.json')\n",
    "\n",
    "# Filter out where there is a loop in the code\n",
    "data = data[~data['sourceCode'].str.contains('for') & ~data['sourceCode'].str.contains('while')]\n",
    "\n",
    "# Drop the duplicate id's\n",
    "data = data.drop_duplicates(subset='id')\n",
    "\n",
    "# Clean each sample\n",
    "data['context'] = data['context'].apply(clean_html)\n",
    "\n",
    "# Save the data to a new json\n",
    "data.to_json('code4bench_no_loops.json')"
   ]
  }
 ],
 "metadata": {
  "kernelspec": {
   "display_name": "Python 3",
   "language": "python",
   "name": "python3"
  },
  "language_info": {
   "codemirror_mode": {
    "name": "ipython",
    "version": 3
   },
   "file_extension": ".py",
   "mimetype": "text/x-python",
   "name": "python",
   "nbconvert_exporter": "python",
   "pygments_lexer": "ipython3",
   "version": "3.10.11"
  }
 },
 "nbformat": 4,
 "nbformat_minor": 2
}
