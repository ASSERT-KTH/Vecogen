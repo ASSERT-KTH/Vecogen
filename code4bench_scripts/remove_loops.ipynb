{
 "cells": [
  {
   "cell_type": "markdown",
   "metadata": {},
   "source": [
    "This file processes the code4bench data. It removes all samples with a loop of some sort\n"
   ]
  },
  {
   "cell_type": "code",
   "execution_count": 2,
   "metadata": {},
   "outputs": [],
   "source": [
    "import pandas as pd\n",
    "from bs4 import BeautifulSoup\n",
    "import re"
   ]
  },
  {
   "cell_type": "code",
   "execution_count": 4,
   "metadata": {},
   "outputs": [],
   "source": [
    "def clean_html(html):\n",
    "    text = BeautifulSoup(html, 'html.parser')\n",
    "    text = text.get_text(separator=\"\\n\", strip=True)\n",
    "    text = re.sub(r'\\s+', ' ', text)\n",
    "    \n",
    "    # Identify and format headers\n",
    "    headers = [\"Input\", \"Output\", \"Examples\", \"Note\"]\n",
    "    for header in headers:\n",
    "        text = text.replace(f\" {header} \", f\"\\n\\n{header}\\n\")\n",
    "        \n",
    "    return text"
   ]
  },
  {
   "cell_type": "code",
   "execution_count": 1,
   "metadata": {},
   "outputs": [
    {
     "ename": "NameError",
     "evalue": "name 'pd' is not defined",
     "output_type": "error",
     "traceback": [
      "\u001b[1;31m---------------------------------------------------------------------------\u001b[0m",
      "\u001b[1;31mNameError\u001b[0m                                 Traceback (most recent call last)",
      "Cell \u001b[1;32mIn[1], line 2\u001b[0m\n\u001b[0;32m      1\u001b[0m \u001b[38;5;66;03m# Load the data from the json\u001b[39;00m\n\u001b[1;32m----> 2\u001b[0m data \u001b[38;5;241m=\u001b[39m \u001b[43mpd\u001b[49m\u001b[38;5;241m.\u001b[39mread_json(\u001b[38;5;124m'\u001b[39m\u001b[38;5;124mcode4bench_unfiltered.json\u001b[39m\u001b[38;5;124m'\u001b[39m)\n\u001b[0;32m      4\u001b[0m \u001b[38;5;66;03m# Filter out where there is a loop in the code\u001b[39;00m\n\u001b[0;32m      5\u001b[0m data \u001b[38;5;241m=\u001b[39m data[\u001b[38;5;241m~\u001b[39mdata[\u001b[38;5;124m'\u001b[39m\u001b[38;5;124msourceCode\u001b[39m\u001b[38;5;124m'\u001b[39m]\u001b[38;5;241m.\u001b[39mstr\u001b[38;5;241m.\u001b[39mcontains(\u001b[38;5;124m'\u001b[39m\u001b[38;5;124mfor\u001b[39m\u001b[38;5;124m'\u001b[39m) \u001b[38;5;241m&\u001b[39m \u001b[38;5;241m~\u001b[39mdata[\u001b[38;5;124m'\u001b[39m\u001b[38;5;124msourceCode\u001b[39m\u001b[38;5;124m'\u001b[39m]\u001b[38;5;241m.\u001b[39mstr\u001b[38;5;241m.\u001b[39mcontains(\u001b[38;5;124m'\u001b[39m\u001b[38;5;124mwhile\u001b[39m\u001b[38;5;124m'\u001b[39m)]\n",
      "\u001b[1;31mNameError\u001b[0m: name 'pd' is not defined"
     ]
    }
   ],
   "source": [
    "# Load the data from the json\n",
    "data = pd.read_json('code4bench_unfiltered.json')\n",
    "\n",
    "# Filter out where there is a loop in the code\n",
    "data = data[~data['sourceCode'].str.contains('for') & ~data['sourceCode'].str.contains('while')]\n",
    "\n",
    "# Drop the duplicate id's\n",
    "data = data.drop_duplicates(subset='id')\n",
    "\n",
    "# Clean each sample\n",
    "data['context'] = data['context'].apply(clean_html)\n",
    "\n",
    "# Save the data to a new json\n",
    "data.to_json('code4bench_no_loops.json')"
   ]
  },
  {
   "cell_type": "code",
   "execution_count": 5,
   "metadata": {},
   "outputs": [],
   "source": [
    "# Filter out where there is no loop in the code\n",
    "data = pd.read_json('code4bench_unfiltered.json')\n",
    "data = data[data['sourceCode'].str.contains('for') | data['sourceCode'].str.contains('while')]\n",
    "\n",
    "# Create a dataset with loops\n",
    "data = pd.read_json('code4bench_unfiltered.json')\n",
    "\n",
    "# Drop the duplicate id's\n",
    "data = data.drop_duplicates(subset='id')\n",
    "\n",
    "# Clean each sample\n",
    "data['context'] = data['context'].apply(clean_html)\n",
    "\n",
    "# Save the data to a new json\n",
    "data.to_json('code4bench_loops.json')"
   ]
  }
 ],
 "metadata": {
  "kernelspec": {
   "display_name": "Python 3",
   "language": "python",
   "name": "python3"
  },
  "language_info": {
   "codemirror_mode": {
    "name": "ipython",
    "version": 3
   },
   "file_extension": ".py",
   "mimetype": "text/x-python",
   "name": "python",
   "nbconvert_exporter": "python",
   "pygments_lexer": "ipython3",
   "version": "3.10.11"
  }
 },
 "nbformat": 4,
 "nbformat_minor": 2
}
