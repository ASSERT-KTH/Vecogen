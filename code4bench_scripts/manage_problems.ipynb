{
 "cells": [
  {
   "cell_type": "code",
   "execution_count": 1,
   "metadata": {},
   "outputs": [],
   "source": [
    "import pandas as pd\n",
    "import os"
   ]
  },
  {
   "cell_type": "code",
   "execution_count": 2,
   "metadata": {},
   "outputs": [],
   "source": [
    "# Read the problems file\n",
    "problems = pd.read_json('code4bench_no_loops.json')\n",
    "loop_problems = pd.read_json('code4bench_loops.json')\n"
   ]
  },
  {
   "cell_type": "code",
   "execution_count": 4,
   "metadata": {},
   "outputs": [],
   "source": [
    "# For each of the problems make a folder with the index\n",
    "for i, problem in problems.iterrows():\n",
    "    # define the range of problems to extract here\n",
    "    if i > 2000 and i < 2200:\n",
    "        # Get the context of the problem\n",
    "        context = problem['context']\n",
    "        \n",
    "        # Get the path, start with the current directory and add the folder name\n",
    "        path = os.path.join(os.getcwd(), \"..\", \"no_loop_problems\", f\"{i}\")\n",
    "\n",
    "        # Create the folder if it does not exist\n",
    "        if not os.path.exists(path):\n",
    "            os.makedirs(path)\n",
    "        \n",
    "        # Write the context to a file\n",
    "        with open(os.path.join(path, 'context.txt'), 'w', encoding=\"utf-8\") as f:\n",
    "            f.write(context)"
   ]
  },
  {
   "cell_type": "code",
   "execution_count": null,
   "metadata": {},
   "outputs": [],
   "source": []
  },
  {
   "cell_type": "code",
   "execution_count": 13,
   "metadata": {},
   "outputs": [
    {
     "name": "stdout",
     "output_type": "stream",
     "text": [
      "id                                                         2490\n",
      "sourceCode    #include<stdio.h>\\r\\nint main()\\r\\n{\\r\\nlong l...\n",
      "fullname                                                    84A\n",
      "name                                                          A\n",
      "countline                                                     7\n",
      "context       A. Toy Army time limit per test 2 seconds memo...\n",
      "index                                                        68\n",
      "Name: 2073, dtype: object\n",
      "#include<stdio.h>\n",
      "int main()\n",
      "{\n",
      "long long int n;\n",
      "scanf(\"%I64d\",&n);\n",
      "printf(\"%I64d\",(3*n)/2);\n",
      "return(0);}\n"
     ]
    },
    {
     "data": {
      "text/plain": [
       "'#include<stdio.h>  int main()  {  long long int n;  scanf(\"%I64d\",&n);  printf(\"%I64d\",(3*n)/2);  return(0);}'"
      ]
     },
     "execution_count": 13,
     "metadata": {},
     "output_type": "execute_result"
    }
   ],
   "source": [
    "index = 68\n",
    "print(problems.iloc[index])\n",
    "print(problems.iloc[index]['sourceCode'])\n",
    "problems.iloc[index]['sourceCode'].replace(\"\\r\", \" \").replace(\"\\n\", \" \").replace(\"\\t\", \" \")"
   ]
  },
  {
   "cell_type": "code",
   "execution_count": 5,
   "metadata": {},
   "outputs": [],
   "source": [
    "# Select a random problem from the loop problems\n",
    "problem = loop_problems.sample()\n",
    "\n",
    "# Get the index of the problem\n",
    "i = problem.index[0]\n",
    "\n",
    "# If the problem does not have a loop then generate a new one. Do this in a loop\n",
    "while not problem['sourceCode'].str.contains('for|while|do').any():\n",
    "    problem = loop_problems.sample()\n",
    "\n",
    "# Get the context of the problem\n",
    "context = problem['context'].values[0]\n",
    "\n",
    "# Get the path, start with the current directory and add the folder name\n",
    "path = os.path.join(os.getcwd(), \"..\", \"loop_problems\", f\"{i}\")\n",
    "\n",
    "# Create the folder if it does not exist\n",
    "if not os.path.exists(path):\n",
    "    os.makedirs(path)\n",
    "\n",
    "# Write the context to a file\n",
    "with open(os.path.join(path, 'context.txt'), 'w', encoding=\"utf-8\") as f:\n",
    "    f.write(context)\n",
    "    \n",
    "# Also write the context commented to the source code\n",
    "with open(os.path.join(path, 'solution.c'), 'w', encoding=\"utf-8\") as f:\n",
    "    f.write(f\"/* {context} */\\n\\n\")\n",
    "    f.write(problem['sourceCode'].values[0].replace(\"\\r\", \" \").replace(\"\\t\", \" \"))\n",
    "    "
   ]
  }
 ],
 "metadata": {
  "kernelspec": {
   "display_name": "Python 3",
   "language": "python",
   "name": "python3"
  },
  "language_info": {
   "codemirror_mode": {
    "name": "ipython",
    "version": 3
   },
   "file_extension": ".py",
   "mimetype": "text/x-python",
   "name": "python",
   "nbconvert_exporter": "python",
   "pygments_lexer": "ipython3",
   "version": "3.10.11"
  }
 },
 "nbformat": 4,
 "nbformat_minor": 2
}
