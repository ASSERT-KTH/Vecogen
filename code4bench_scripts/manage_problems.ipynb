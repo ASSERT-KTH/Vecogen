{
 "cells": [
  {
   "cell_type": "code",
   "execution_count": null,
   "metadata": {},
   "outputs": [],
   "source": [
    "import pandas as pd\n",
    "import os\n",
    "import re"
   ]
  },
  {
   "cell_type": "code",
   "execution_count": 2,
   "metadata": {},
   "outputs": [],
   "source": [
    "# Read the problems file\n",
    "problems = pd.read_json('code4bench_no_loops.json')\n",
    "loop_problems = pd.read_json('code4bench_loops.json')"
   ]
  },
  {
   "cell_type": "code",
   "execution_count": 4,
   "metadata": {},
   "outputs": [],
   "source": [
    "# For each of the problems make a folder with the index\n",
    "for i, problem in problems.iterrows():\n",
    "    # define the range of problems to extract here\n",
    "    if i > 2000 and i < 2200:\n",
    "        # Get the context of the problem\n",
    "        context = problem['context']\n",
    "        \n",
    "        # Get the path, start with the current directory and add the folder name\n",
    "        path = os.path.join(os.getcwd(), \"..\", \"no_loop_problems\", f\"{i}\")\n",
    "\n",
    "        # Create the folder if it does not exist\n",
    "        if not os.path.exists(path):\n",
    "            os.makedirs(path)\n",
    "        \n",
    "        # Write the context to a file\n",
    "        with open(os.path.join(path, 'context.txt'), 'w', encoding=\"utf-8\") as f:\n",
    "            f.write(context)"
   ]
  },
  {
   "cell_type": "code",
   "execution_count": 13,
   "metadata": {},
   "outputs": [
    {
     "name": "stdout",
     "output_type": "stream",
     "text": [
      "id                                                         2490\n",
      "sourceCode    #include<stdio.h>\\r\\nint main()\\r\\n{\\r\\nlong l...\n",
      "fullname                                                    84A\n",
      "name                                                          A\n",
      "countline                                                     7\n",
      "context       A. Toy Army time limit per test 2 seconds memo...\n",
      "index                                                        68\n",
      "Name: 2073, dtype: object\n",
      "#include<stdio.h>\n",
      "int main()\n",
      "{\n",
      "long long int n;\n",
      "scanf(\"%I64d\",&n);\n",
      "printf(\"%I64d\",(3*n)/2);\n",
      "return(0);}\n"
     ]
    },
    {
     "data": {
      "text/plain": [
       "'#include<stdio.h>  int main()  {  long long int n;  scanf(\"%I64d\",&n);  printf(\"%I64d\",(3*n)/2);  return(0);}'"
      ]
     },
     "execution_count": 13,
     "metadata": {},
     "output_type": "execute_result"
    }
   ],
   "source": [
    "index = 68\n",
    "print(problems.iloc[index])\n",
    "print(problems.iloc[index]['sourceCode'])\n",
    "problems.iloc[index]['sourceCode'].replace(\"\\r\", \" \").replace(\"\\n\", \" \").replace(\"\\t\", \" \")"
   ]
  },
  {
   "cell_type": "code",
   "execution_count": 11,
   "metadata": {},
   "outputs": [],
   "source": [
    "# Select a random problem from the loop problems\n",
    "problem = loop_problems.sample()\n",
    "\n",
    "# Get the index of the problem\n",
    "i = problem.index[0]\n",
    "\n",
    "# If the problem does not have a loop then generate a new one. Do this in a loop\n",
    "while not problem['sourceCode'].str.contains('for|while|do').any():\n",
    "    problem = loop_problems.sample()\n",
    "\n",
    "# Get the context of the problem\n",
    "context = problem['context'].values[0]\n",
    "\n",
    "# Get the path, start with the current directory and add the folder name\n",
    "path = os.path.join(os.getcwd(), \"..\", \"loop_problems\", f\"{i}\")\n",
    "\n",
    "# Create the folder if it does not exist\n",
    "if not os.path.exists(path):\n",
    "    os.makedirs(path)\n",
    "\n",
    "# Write the context to a file\n",
    "with open(os.path.join(path, 'context.txt'), 'w', encoding=\"utf-8\") as f:\n",
    "    f.write(context)\n",
    "    \n",
    "# Also write the context commented to the source code\n",
    "with open(os.path.join(path, 'solution.c'), 'w', encoding=\"utf-8\") as f:\n",
    "    f.write(f\"/* {context} */\\n\\n\")\n",
    "    f.write(problem['sourceCode'].values[0].replace(\"\\r\", \" \").replace(\"\\t\", \" \"))\n",
    "    "
   ]
  },
  {
   "cell_type": "code",
   "execution_count": 6,
   "metadata": {},
   "outputs": [
    {
     "name": "stdout",
     "output_type": "stream",
     "text": [
      "#include<stdio.h>  \n",
      "#include<conio.h>  \n",
      "  \n",
      "int main()  \n",
      "{  \n",
      "    long long n;  \n",
      "    scanf(\"%I64d\", &n);  \n",
      "    long long result;  \n",
      "    result = n / 2;  \n",
      "    if(n%2 == 0)  \n",
      "    {  \n",
      "        printf(\"%I64d\", result);  \n",
      "    }  \n",
      "    else  \n",
      "        printf(\"%I64d\", result + 1);  \n",
      "}\n"
     ]
    }
   ],
   "source": [
    "# Get problem 690A1 from filtering the problems\n",
    "problem = problems[problems['fullname'] == '690A1']\n",
    "print(problem['sourceCode'].values[0].replace(\"\\r\", \" \").replace(\"\\t\", \" \"))"
   ]
  },
  {
   "cell_type": "code",
   "execution_count": 28,
   "metadata": {},
   "outputs": [
    {
     "name": "stdout",
     "output_type": "stream",
     "text": [
      "#include<stdio.h>\n",
      "int main()\n",
      "{\n",
      "    int a,b,d;\n",
      "    scanf(\"%d %d\",&a,&b);\n",
      "    if(a>b)\n",
      "        printf(\"%d\",b);\n",
      "    else\n",
      "        printf(\"%d\",a);\n",
      "    d=abs(a-b);\n",
      "\n",
      "    printf(\" %d\\n\",d/2);\n",
      "    return 0;\n",
      "\n",
      "}\n",
      "void transformed_function(int a, int b)\n",
      "{\n",
      "    int a,b,d;\n",
      "    \n",
      "    if(a>b)\n",
      "        printf(\"%d\",b);\n",
      "    else\n",
      "        printf(\"%d\",a);\n",
      "    d=abs(a-b);\n",
      "\n",
      "    printf(\" %d\\n\",d/2);\n",
      "    return 0;\n",
      "\n",
      "}\n"
     ]
    }
   ],
   "source": [
    "# Get the problem 581A\n",
    "problem = problems[problems['fullname'] == '581A']\n",
    "\n",
    "print(problem['sourceCode'].values[0])\n",
    "\n",
    "# Function to transform the source code to a function instead. This is done by:\n",
    "# 1. remove any imports\n",
    "# 2. for each input variable (scanf) we introduce a function parameter\n",
    "# 3. for each output variable (printf) we introduce a output parameter (a pointer)\n",
    "# 4. Create a function name\n",
    "# 5. return void\n",
    "\n",
    "def transform_source_code(source_code):\n",
    "    # Step 1: Remove any imports\n",
    "    lines = source_code.split('\\n')\n",
    "    \n",
    "    # Remove any lines that start with #include\n",
    "    lines_no_include = [line for line in lines if not re.match(r'^\\s*#include', line)]\n",
    "    code = '\\n'.join(lines_no_include)\n",
    "\n",
    "    # Initialize lists to store input and output variables\n",
    "    input_vars = []\n",
    "    output_vars = []\n",
    "\n",
    "    # Patterns to identify scanf and printf statements\n",
    "    scanf_pattern = r'scanf\\s*\\(.*?\\);'\n",
    "    printf_pattern = r'printf\\s*\\(.*?\\);'\n",
    "    \n",
    "    # Find all scanf statements\n",
    "    scanf_statements = re.findall(scanf_pattern, code, flags=re.DOTALL)\n",
    "    \n",
    "    # Extract all variables\n",
    "    for scanf_statement in scanf_statements:\n",
    "        vars_in_scanf = re.findall(r'&\\s*(\\w+)', scanf_statement)\n",
    "        \n",
    "        # Find the data type of the variable\n",
    "        for var in vars_in_scanf:\n",
    "            data_type = re.search(r'int|float|double|char', code).group()\n",
    "            input_vars.append((data_type, var))\n",
    "        \n",
    "    # Create the parameters\n",
    "    parameters = ', '.join([f'{data_type} {var}' for data_type, var in input_vars])\n",
    "            \n",
    "    # Remove the scanf statements\n",
    "    code = re.sub(scanf_pattern, '', code, flags=re.DOTALL)\n",
    "    \n",
    "    # Replace the int main() with void transformed_function(parameters)\n",
    "    code  = re.sub(r'int\\s+main\\s*\\(\\s*\\)', f\"void transformed_function({parameters})\", code)\n",
    "    \n",
    "    \n",
    "\n",
    "\n",
    "\n",
    "    # code_without_scanf = re.sub(scanf_pattern, process_scanf, code_without_imports, flags=re.DOTALL)\n",
    "\n",
    "    # # Step 3: Process printf statements to extract output variables\n",
    "    # def process_printf(match):\n",
    "    #     nonlocal output_vars\n",
    "    #     printf_str = match.group()\n",
    "    #     # Extract variable names in printf\n",
    "    #     vars_in_printf = re.findall(r'[^%]%\\w\\s*,\\s*(\\w+)', printf_str)\n",
    "    #     output_vars.extend(vars_in_printf)\n",
    "    #     # Remove the printf statement from code\n",
    "    #     return ''\n",
    "\n",
    "    # code_without_printf = re.sub(printf_pattern, process_printf, code_without_scanf, flags=re.DOTALL)\n",
    "\n",
    "    # # Step 4: Create a function name\n",
    "    # function_name = 'transformed_function'\n",
    "\n",
    "    # # Prepare function parameters\n",
    "    # input_params = ', '.join(f'int {var}' for var in input_vars)\n",
    "    # output_params = ', '.join(f'int *{var}' for var in output_vars)\n",
    "    # all_params = ', '.join(filter(None, [input_params, output_params]))\n",
    "\n",
    "    # # Construct the function definition\n",
    "    # function_def = f'void {function_name}({all_params}) {{\\n'\n",
    "\n",
    "    # # Prepare output assignments\n",
    "    # output_assignments = ''\n",
    "    # for var in output_vars:\n",
    "    #     output_assignments += f'    *{var} = {var};\\n'\n",
    "\n",
    "    # # Combine the transformed code\n",
    "    # transformed_code = function_def + code_without_printf + '\\n' + output_assignments + '}\\n'\n",
    "\n",
    "    # return transformed_code.strip()\n",
    "    return code\n",
    "\n",
    "\n",
    "print(transform_source_code(problem['sourceCode'].values[0]))"
   ]
  }
 ],
 "metadata": {
  "kernelspec": {
   "display_name": "Python 3",
   "language": "python",
   "name": "python3"
  },
  "language_info": {
   "codemirror_mode": {
    "name": "ipython",
    "version": 3
   },
   "file_extension": ".py",
   "mimetype": "text/x-python",
   "name": "python",
   "nbconvert_exporter": "python",
   "pygments_lexer": "ipython3",
   "version": "3.10.11"
  }
 },
 "nbformat": 4,
 "nbformat_minor": 2
}
